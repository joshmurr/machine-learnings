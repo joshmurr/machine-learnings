{
  "nbformat": 4,
  "nbformat_minor": 0,
  "metadata": {
    "colab": {
      "name": "DCGAN-Keras.ipynb",
      "provenance": [],
      "toc_visible": true,
      "authorship_tag": "ABX9TyP0P1YqpNmG4QAvYjsmvJZn",
      "include_colab_link": true
    },
    "kernelspec": {
      "name": "python3",
      "display_name": "Python 3"
    },
    "accelerator": "GPU"
  },
  "cells": [
    {
      "cell_type": "markdown",
      "metadata": {
        "id": "view-in-github",
        "colab_type": "text"
      },
      "source": [
        "<a href=\"https://colab.research.google.com/github/joshmurr/machine-learnings/blob/master/cci-dsai/DCGAN_Keras.ipynb\" target=\"_parent\"><img src=\"https://colab.research.google.com/assets/colab-badge.svg\" alt=\"Open In Colab\"/></a>"
      ]
    },
    {
      "cell_type": "markdown",
      "metadata": {
        "id": "G1CXqrESDzz5"
      },
      "source": [
        "# DCGAN\n",
        "## Deep Convolutional GAN\n",
        "\n",
        "This is the official Keras implementation of a DCGAN [which you can see here](https://keras.io/examples/generative/dcgan_overriding_train_step/). It is a classic model however and one which is good know in and out. Knowing this general structure will serve you well when you come to look at more complex GAN's and you will begin to notice the core structure of a DCGAN."
      ]
    },
    {
      "cell_type": "markdown",
      "metadata": {
        "id": "AWhHGOBHEVhq"
      },
      "source": [
        "First, as ever, some imports...."
      ]
    },
    {
      "cell_type": "code",
      "metadata": {
        "id": "WcXXG7NMcHAl"
      },
      "source": [
        "import tensorflow as tf\n",
        "from tensorflow import keras\n",
        "from tensorflow.keras import layers\n",
        "import numpy as np\n",
        "import matplotlib.pyplot as plt\n",
        "import os\n",
        "import gdown\n",
        "from zipfile import ZipFile"
      ],
      "execution_count": 1,
      "outputs": []
    },
    {
      "cell_type": "markdown",
      "metadata": {
        "id": "lg7sopduEXzS"
      },
      "source": [
        "Make sure we have a GPU (the output of this cell should say `Num GPUs Available:  1`... If it does not make sure you have selected a GPU runtime in the menu at the top."
      ]
    },
    {
      "cell_type": "code",
      "metadata": {
        "colab": {
          "base_uri": "https://localhost:8080/"
        },
        "id": "CotjyJ1-ewMz",
        "outputId": "90d338f8-d4ee-4d53-deff-bf2a0af2e476"
      },
      "source": [
        "print(\"Num GPUs Available: \", len(tf.config.list_physical_devices('GPU')))"
      ],
      "execution_count": 2,
      "outputs": [
        {
          "output_type": "stream",
          "text": [
            "Num GPUs Available:  1\n"
          ],
          "name": "stdout"
        }
      ]
    },
    {
      "cell_type": "markdown",
      "metadata": {
        "id": "4RQWD0CrEyI8"
      },
      "source": [
        "## Download the Raw Dataset\n",
        "\n",
        "We will use the [CelebA dataset](http://mmlab.ie.cuhk.edu.hk/projects/CelebA.html). In the cell below we download the zip file from the official source and unzip it into a folder called `celeba`."
      ]
    },
    {
      "cell_type": "code",
      "metadata": {
        "id": "tRHTno-9cMG4",
        "colab": {
          "base_uri": "https://localhost:8080/"
        },
        "outputId": "affcd6ff-aeb3-4c4a-c104-bdad9f78ccd9"
      },
      "source": [
        "DATASET_DIR = 'dataset'\n",
        "OUTPUT_DIR = 'output'\n",
        "try:\n",
        "  os.makedirs(DATASET_DIR)\n",
        "  os.makedirs(OUTPUT_DIR)\n",
        "except:\n",
        "  pass\n",
        "\n",
        "url = \"https://drive.google.com/uc?id=1O7m1010EJjLE5QxLZiM9Fpjs7Oj6e684\"\n",
        "output = f\"{DATASET_DIR}/data.zip\"\n",
        "gdown.download(url, output, quiet=False)\n",
        "\n",
        "with ZipFile(f\"{DATASET_DIR}/data.zip\", \"r\") as zipobj:\n",
        "    zipobj.extractall(f\"{DATASET_DIR}\")"
      ],
      "execution_count": 4,
      "outputs": [
        {
          "output_type": "stream",
          "text": [
            "Downloading...\n",
            "From: https://drive.google.com/uc?id=1O7m1010EJjLE5QxLZiM9Fpjs7Oj6e684\n",
            "To: /content/dataset/data.zip\n",
            "1.44GB [00:14, 100MB/s] \n"
          ],
          "name": "stderr"
        }
      ]
    },
    {
      "cell_type": "markdown",
      "metadata": {
        "id": "q4OeKM3bFFyu"
      },
      "source": [
        "## Create a Tensorflow Dataset\n",
        "\n",
        "Below we use the Keras `image_dataset_from_directory` to turn our folder full of images into a _Tensorflow dataset_ which will make loading images from the dataset much more efficient during training.\n",
        "\n",
        "I am however only using 5% of the dataset (which in total is approx 200,000 images) in order to make the training a lot faster for demonstration purposes. To use the full dataset create your dataset like so:\n",
        "\n",
        "```python\n",
        "dataset = keras.preprocessing.image_dataset_from_directory(\n",
        "    DATASET_DIR,\n",
        "    label_mode=None,\n",
        "    image_size=(64, 64),\n",
        "    batch_size=32,\n",
        ")\n",
        "```\n",
        "\n",
        "(Notice that I've just removed the `seed`, `validation_split` and `subset` arguments)."
      ]
    },
    {
      "cell_type": "code",
      "metadata": {
        "colab": {
          "base_uri": "https://localhost:8080/"
        },
        "id": "VEpCzNfCc0_7",
        "outputId": "e8ccbd50-2e61-44e0-f3fa-20a1c2780339"
      },
      "source": [
        "dataset = keras.preprocessing.image_dataset_from_directory(\n",
        "    DATASET_DIR,\n",
        "    label_mode=None,\n",
        "    image_size=(64, 64),\n",
        "    batch_size=32,\n",
        "    seed=999,\n",
        "    validation_split=0.95, # Spliting the dataset 1:9 (training:validation) just to make it smaller!\n",
        "    subset='training' # Taking the smaller 'validation' set.\n",
        ")\n",
        "dataset = dataset.map(lambda x: x / 255.0)"
      ],
      "execution_count": 5,
      "outputs": [
        {
          "output_type": "stream",
          "text": [
            "Found 202599 files belonging to 1 classes.\n",
            "Using 10130 files for training.\n"
          ],
          "name": "stdout"
        }
      ]
    },
    {
      "cell_type": "markdown",
      "metadata": {
        "id": "ZH2PgrNvGHz5"
      },
      "source": [
        "The `dataset` we have now created is what is known as an _iterator_ which Keras has added some functionality to. So when we choose an image from the dataset, as in the cell below, we will get an image at random.\n",
        "\n",
        "If you re-run the cell below you will see different images from the dataset."
      ]
    },
    {
      "cell_type": "code",
      "metadata": {
        "colab": {
          "base_uri": "https://localhost:8080/",
          "height": 248
        },
        "id": "DNOYzTQac1od",
        "outputId": "a1c6fb69-bdec-49a3-a9ae-dd11fb92caa5"
      },
      "source": [
        "for x in dataset:\n",
        "    plt.axis(\"off\")\n",
        "    plt.imshow((x.numpy() * 255).astype(\"int32\")[0])\n",
        "    break"
      ],
      "execution_count": 8,
      "outputs": [
        {
          "output_type": "display_data",
          "data": {
            "image/png": "[encoded data removed]",
            "text/plain": [
              "<Figure size 432x288 with 1 Axes>"
            ]
          },
          "metadata": {
            "tags": [],
            "needs_background": "light"
          }
        }
      ]
    },
    {
      "cell_type": "markdown",
      "metadata": {
        "id": "6wsI9jnNGeFh"
      },
      "source": [
        "## Define the Discriminator\n",
        "\n",
        "Here we use the _sequential_ API from Keras to define the discriminator model.\n",
        "\n",
        "You can see that it __3 convolutional__ layers with __leaky ReLU__ which is flattened and sent into a final __fully connected__ layer with __one output__."
      ]
    },
    {
      "cell_type": "code",
      "metadata": {
        "colab": {
          "base_uri": "https://localhost:8080/"
        },
        "id": "SPjWwh8CdeK8",
        "outputId": "24b06035-15b6-439d-9216-aae770818e4e"
      },
      "source": [
        "discriminator = keras.Sequential(\n",
        "    [\n",
        "        keras.Input(shape=(64, 64, 3)),\n",
        "        layers.Conv2D(64, kernel_size=4, strides=2, padding=\"same\"),\n",
        "        layers.LeakyReLU(alpha=0.2),\n",
        "        layers.Conv2D(128, kernel_size=4, strides=2, padding=\"same\"),\n",
        "        layers.LeakyReLU(alpha=0.2),\n",
        "        layers.Conv2D(128, kernel_size=4, strides=2, padding=\"same\"),\n",
        "        layers.LeakyReLU(alpha=0.2),\n",
        "        layers.Flatten(),\n",
        "        layers.Dropout(0.2),\n",
        "        layers.Dense(1, activation=\"sigmoid\"),\n",
        "    ],\n",
        "    name=\"discriminator\",\n",
        ")\n",
        "discriminator.summary()\n"
      ],
      "execution_count": 9,
      "outputs": [
        {
          "output_type": "stream",
          "text": [
            "Model: \"discriminator\"\n",
            "_________________________________________________________________\n",
            "Layer (type)                 Output Shape              Param #   \n",
            "=================================================================\n",
            "conv2d (Conv2D)              (None, 32, 32, 64)        3136      \n",
            "_________________________________________________________________\n",
            "leaky_re_lu (LeakyReLU)      (None, 32, 32, 64)        0         \n",
            "_________________________________________________________________\n",
            "conv2d_1 (Conv2D)            (None, 16, 16, 128)       131200    \n",
            "_________________________________________________________________\n",
            "leaky_re_lu_1 (LeakyReLU)    (None, 16, 16, 128)       0         \n",
            "_________________________________________________________________\n",
            "conv2d_2 (Conv2D)            (None, 8, 8, 128)         262272    \n",
            "_________________________________________________________________\n",
            "leaky_re_lu_2 (LeakyReLU)    (None, 8, 8, 128)         0         \n",
            "_________________________________________________________________\n",
            "flatten (Flatten)            (None, 8192)              0         \n",
            "_________________________________________________________________\n",
            "dropout (Dropout)            (None, 8192)              0         \n",
            "_________________________________________________________________\n",
            "dense (Dense)                (None, 1)                 8193      \n",
            "=================================================================\n",
            "Total params: 404,801\n",
            "Trainable params: 404,801\n",
            "Non-trainable params: 0\n",
            "_________________________________________________________________\n"
          ],
          "name": "stdout"
        }
      ]
    },
    {
      "cell_type": "markdown",
      "metadata": {
        "id": "oPHTmUhSHAxb"
      },
      "source": [
        "## Define the Generator\n",
        "\n",
        "You can see that the generator takes a __latent vector__ as input which is fed directly into a __fully connected__ layer. This layer is then __reshaped__ in order for it to be recieved by the next __transposed convoultional__ layer (which needs 2-dimensional data). As before there are 3 of these layers with increasing numbers of __filters__ with __leaky ReLU__ activation.\n",
        "\n",
        "The final layer is a regular __2D convolution__ has only __3 filters__ which gives us an RGB image as output.\n",
        "\n",
        "It is the combination of the __kernel size of 4__ and the __stride of 2__ which doubles the size each layer from 8x8 to 16x16 to 32x32 to the final size of 64x64."
      ]
    },
    {
      "cell_type": "code",
      "metadata": {
        "colab": {
          "base_uri": "https://localhost:8080/"
        },
        "id": "Ve5WyO5vdhg7",
        "outputId": "8e77f52b-e8d2-47d1-cfb7-cc1bd95cd26c"
      },
      "source": [
        "latent_dim = 128\n",
        "\n",
        "generator = keras.Sequential(\n",
        "    [\n",
        "        keras.Input(shape=(latent_dim,)),\n",
        "        layers.Dense(8 * 8 * 128),\n",
        "        layers.Reshape((8, 8, 128)),\n",
        "        layers.Conv2DTranspose(128, kernel_size=4, strides=2, padding=\"same\"),\n",
        "        layers.LeakyReLU(alpha=0.2),\n",
        "        layers.Conv2DTranspose(256, kernel_size=4, strides=2, padding=\"same\"),\n",
        "        layers.LeakyReLU(alpha=0.2),\n",
        "        layers.Conv2DTranspose(512, kernel_size=4, strides=2, padding=\"same\"),\n",
        "        layers.LeakyReLU(alpha=0.2),\n",
        "        layers.Conv2D(3, kernel_size=5, padding=\"same\", activation=\"sigmoid\"),\n",
        "    ],\n",
        "    name=\"generator\",\n",
        ")\n",
        "generator.summary()"
      ],
      "execution_count": 10,
      "outputs": [
        {
          "output_type": "stream",
          "text": [
            "Model: \"generator\"\n",
            "_________________________________________________________________\n",
            "Layer (type)                 Output Shape              Param #   \n",
            "=================================================================\n",
            "dense_1 (Dense)              (None, 8192)              1056768   \n",
            "_________________________________________________________________\n",
            "reshape (Reshape)            (None, 8, 8, 128)         0         \n",
            "_________________________________________________________________\n",
            "conv2d_transpose (Conv2DTran (None, 16, 16, 128)       262272    \n",
            "_________________________________________________________________\n",
            "leaky_re_lu_3 (LeakyReLU)    (None, 16, 16, 128)       0         \n",
            "_________________________________________________________________\n",
            "conv2d_transpose_1 (Conv2DTr (None, 32, 32, 256)       524544    \n",
            "_________________________________________________________________\n",
            "leaky_re_lu_4 (LeakyReLU)    (None, 32, 32, 256)       0         \n",
            "_________________________________________________________________\n",
            "conv2d_transpose_2 (Conv2DTr (None, 64, 64, 512)       2097664   \n",
            "_________________________________________________________________\n",
            "leaky_re_lu_5 (LeakyReLU)    (None, 64, 64, 512)       0         \n",
            "_________________________________________________________________\n",
            "conv2d_3 (Conv2D)            (None, 64, 64, 3)         38403     \n",
            "=================================================================\n",
            "Total params: 3,979,651\n",
            "Trainable params: 3,979,651\n",
            "Non-trainable params: 0\n",
            "_________________________________________________________________\n"
          ],
          "name": "stdout"
        }
      ]
    },
    {
      "cell_type": "markdown",
      "metadata": {
        "id": "pJk8r1BRK2u6"
      },
      "source": [
        "It is in the layers of the discriminator and the generator where you should experiment.\n",
        "\n",
        "How would you make __G__ output an image of a different size? Perhaps __batchnormalisation__ would make a difference? Or maybe change the __filter size__ and __stride__ and introduce __max-pooling__ to control the size of the feature map from layer to layer! Or maybe the __number of kernels__ in each layer would make a difference? SO MANY OPTIONS!\n",
        "\n",
        "> If you do mess around with __G__ and __D__ just be aware the the input of __G__ has the be the same dimensions as the latent vector __Z__, and the _input_ of __D__ has to be the same dimensions as the _output_ of __G__."
      ]
    },
    {
      "cell_type": "markdown",
      "metadata": {
        "id": "lqKqT4EZII5_"
      },
      "source": [
        "## Defining the GAN\n",
        "\n",
        "Below a class is created which inherits from the `keras.Model` base class. There are many ways you could define a model and each ML framework has it's own syntax and methods; even within Keras there are many ways you could do this.\n",
        "\n",
        "This is the official implementation and thus the _recommended_ way, but if object-oriented programming is new to you this might seem daunting.\n",
        "\n",
        "Essentially the base class (`keras.Model`) already has the core features and functions that a model needs to train and run. By extending that class we can overwrite certain aspects of it but keep the core functionality which means we can still run `model.fit()` to train it later on and easily keep track of loss as it trains and so on.\n",
        "\n",
        "The interesting bit is inside `train_step()` any way where you should be able to figure out which part is doing what (along with the comments)."
      ]
    },
    {
      "cell_type": "code",
      "metadata": {
        "id": "28BVDjCNdnT4"
      },
      "source": [
        "class GAN(keras.Model):\n",
        "    def __init__(self, discriminator, generator, latent_dim):\n",
        "        super(GAN, self).__init__()\n",
        "        self.discriminator = discriminator\n",
        "        self.generator = generator\n",
        "        self.latent_dim = latent_dim\n",
        "\n",
        "    def compile(self, d_optimizer, g_optimizer, loss_fn):\n",
        "        super(GAN, self).compile()\n",
        "        self.d_optimizer = d_optimizer\n",
        "        self.g_optimizer = g_optimizer\n",
        "        self.loss_fn = loss_fn\n",
        "        self.d_loss_metric = keras.metrics.Mean(name=\"d_loss\")\n",
        "        self.g_loss_metric = keras.metrics.Mean(name=\"g_loss\")\n",
        "\n",
        "    @property\n",
        "    def metrics(self):\n",
        "        return [self.d_loss_metric, self.g_loss_metric]\n",
        "\n",
        "    def train_step(self, real_images):\n",
        "        # Sample random points in the latent space\n",
        "        batch_size = tf.shape(real_images)[0]\n",
        "        random_latent_vectors = tf.random.normal(shape=(batch_size, self.latent_dim))\n",
        "\n",
        "        # Decode them to fake images\n",
        "        generated_images = self.generator(random_latent_vectors)\n",
        "\n",
        "        # Combine them with real images\n",
        "        combined_images = tf.concat([generated_images, real_images], axis=0)\n",
        "\n",
        "        # Assemble labels discriminating real from fake images\n",
        "        labels = tf.concat(\n",
        "            [tf.ones((batch_size, 1)), tf.zeros((batch_size, 1))], axis=0\n",
        "        )\n",
        "        # Add random noise to the labels - important trick!\n",
        "        labels += 0.05 * tf.random.uniform(tf.shape(labels))\n",
        "\n",
        "        # Train the discriminator\n",
        "        with tf.GradientTape() as tape:\n",
        "            predictions = self.discriminator(combined_images)\n",
        "            d_loss = self.loss_fn(labels, predictions)\n",
        "        grads = tape.gradient(d_loss, self.discriminator.trainable_weights)\n",
        "        self.d_optimizer.apply_gradients(\n",
        "            zip(grads, self.discriminator.trainable_weights)\n",
        "        )\n",
        "\n",
        "        # Sample random points in the latent space\n",
        "        random_latent_vectors = tf.random.normal(shape=(batch_size, self.latent_dim))\n",
        "\n",
        "        # Assemble labels that say \"all real images\"\n",
        "        misleading_labels = tf.zeros((batch_size, 1))\n",
        "\n",
        "        # Train the generator (note that we should *not* update the weights\n",
        "        # of the discriminator)!\n",
        "        with tf.GradientTape() as tape:\n",
        "            predictions = self.discriminator(self.generator(random_latent_vectors))\n",
        "            g_loss = self.loss_fn(misleading_labels, predictions)\n",
        "        grads = tape.gradient(g_loss, self.generator.trainable_weights)\n",
        "        self.g_optimizer.apply_gradients(zip(grads, self.generator.trainable_weights))\n",
        "\n",
        "        # Update metrics\n",
        "        self.d_loss_metric.update_state(d_loss)\n",
        "        self.g_loss_metric.update_state(g_loss)\n",
        "        return {\n",
        "            \"d_loss\": self.d_loss_metric.result(),\n",
        "            \"g_loss\": self.g_loss_metric.result(),\n",
        "        }"
      ],
      "execution_count": 11,
      "outputs": []
    },
    {
      "cell_type": "markdown",
      "metadata": {
        "id": "ewv1VeNQJTpH"
      },
      "source": [
        "The class below is a _callback_ which becomes a function we can tack on to the training loop which gets _called_ when certain conditions are met. In this case that condition is: `on_epoch_end`. So whenever an epoch of training is complete this function will run.\n",
        "\n",
        "It is in here that we generate and save an image to a folder in order to observe the output of the generator _during training_.\n",
        "\n",
        "The images are saved in a folder called `output`."
      ]
    },
    {
      "cell_type": "code",
      "metadata": {
        "id": "BlygRVfXdrCK"
      },
      "source": [
        "class GANMonitor(keras.callbacks.Callback):\n",
        "    def __init__(self, num_img=3, latent_dim=128):\n",
        "        self.num_img = num_img\n",
        "        self.latent_dim = latent_dim\n",
        "\n",
        "    def on_epoch_end(self, epoch, logs=None):\n",
        "        random_latent_vectors = tf.random.normal(shape=(self.num_img, self.latent_dim))\n",
        "        generated_images = self.model.generator(random_latent_vectors)\n",
        "        generated_images *= 255\n",
        "        generated_images.numpy()\n",
        "        for i in range(self.num_img):\n",
        "            img = keras.preprocessing.image.array_to_img(generated_images[i])\n",
        "            img.save(os.path.join(OUTPUT_DIR, \"generated_img_%03d_%d.png\" % (epoch, i)))\n"
      ],
      "execution_count": 12,
      "outputs": []
    },
    {
      "cell_type": "markdown",
      "metadata": {
        "id": "tcTYVRb_KQOI"
      },
      "source": [
        "## Train the GAN!\n",
        "\n",
        "Let's just train the model for a few epochs at first and make sure it's all working... If it is at the end of each epocj you should see some images saved into the `output` directory (in the menu on the left).\n",
        "\n",
        "Bear in mind we are using a fraction of the dataset so the results will be a fraction of the quality during normal senarios.\n",
        "\n",
        "I encourage you to use the full dataset and to run the model for 100 epochs. It is not quick! But Google is paying for these GPU's so why not?!\n",
        "\n",
        "After 10 epochs you should end up with something a realistic as this:\n",
        "\n",
        "![generated_img_006_9.png](data:image/png;base64,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)"
      ]
    },
    {
      "cell_type": "code",
      "metadata": {
        "colab": {
          "base_uri": "https://localhost:8080/",
          "height": 435
        },
        "id": "KjCwDPALdtgA",
        "outputId": "63d8d642-d303-4e03-fb85-a234bac7e778"
      },
      "source": [
        "epochs = 10  # In practice, use ~100 epochs\n",
        "\n",
        "gan = GAN(discriminator=discriminator, generator=generator, latent_dim=latent_dim)\n",
        "gan.compile(\n",
        "    d_optimizer=keras.optimizers.Adam(learning_rate=0.0001),\n",
        "    g_optimizer=keras.optimizers.Adam(learning_rate=0.0001),\n",
        "    loss_fn=keras.losses.BinaryCrossentropy(),\n",
        ")\n",
        "\n",
        "gan.fit(\n",
        "    dataset, epochs=epochs, callbacks=[GANMonitor(num_img=10, latent_dim=latent_dim)]\n",
        ")"
      ],
      "execution_count": 13,
      "outputs": [
        {
          "output_type": "stream",
          "text": [
            "Epoch 1/10\n",
            "317/317 [==============================] - 85s 242ms/step - d_loss: 0.4975 - g_loss: 1.5102\n",
            "Epoch 2/10\n",
            " 89/317 [=======>......................] - ETA: 57s - d_loss: 0.4421 - g_loss: 1.5572"
          ],
          "name": "stdout"
        },
        {
          "output_type": "error",
          "ename": "KeyboardInterrupt",
          "evalue": "ignored",
          "traceback": [
            "\u001b[0;31m---------------------------------------------------------------------------\u001b[0m",
            "\u001b[0;31mKeyboardInterrupt\u001b[0m                         Traceback (most recent call last)",
            "\u001b[0;32m<ipython-input-13-ee357eed991d>\u001b[0m in \u001b[0;36m<module>\u001b[0;34m()\u001b[0m\n\u001b[1;32m      9\u001b[0m \u001b[0;34m\u001b[0m\u001b[0m\n\u001b[1;32m     10\u001b[0m gan.fit(\n\u001b[0;32m---> 11\u001b[0;31m     \u001b[0mdataset\u001b[0m\u001b[0;34m,\u001b[0m \u001b[0mepochs\u001b[0m\u001b[0;34m=\u001b[0m\u001b[0mepochs\u001b[0m\u001b[0;34m,\u001b[0m \u001b[0mcallbacks\u001b[0m\u001b[0;34m=\u001b[0m\u001b[0;34m[\u001b[0m\u001b[0mGANMonitor\u001b[0m\u001b[0;34m(\u001b[0m\u001b[0mnum_img\u001b[0m\u001b[0;34m=\u001b[0m\u001b[0;36m10\u001b[0m\u001b[0;34m,\u001b[0m \u001b[0mlatent_dim\u001b[0m\u001b[0;34m=\u001b[0m\u001b[0mlatent_dim\u001b[0m\u001b[0;34m)\u001b[0m\u001b[0;34m]\u001b[0m\u001b[0;34m\u001b[0m\u001b[0;34m\u001b[0m\u001b[0m\n\u001b[0m\u001b[1;32m     12\u001b[0m )\n",
            "\u001b[0;32m/usr/local/lib/python3.7/dist-packages/tensorflow/python/keras/engine/training.py\u001b[0m in \u001b[0;36mfit\u001b[0;34m(self, x, y, batch_size, epochs, verbose, callbacks, validation_split, validation_data, shuffle, class_weight, sample_weight, initial_epoch, steps_per_epoch, validation_steps, validation_batch_size, validation_freq, max_queue_size, workers, use_multiprocessing)\u001b[0m\n\u001b[1;32m   1098\u001b[0m                 _r=1):\n\u001b[1;32m   1099\u001b[0m               \u001b[0mcallbacks\u001b[0m\u001b[0;34m.\u001b[0m\u001b[0mon_train_batch_begin\u001b[0m\u001b[0;34m(\u001b[0m\u001b[0mstep\u001b[0m\u001b[0;34m)\u001b[0m\u001b[0;34m\u001b[0m\u001b[0;34m\u001b[0m\u001b[0m\n\u001b[0;32m-> 1100\u001b[0;31m               \u001b[0mtmp_logs\u001b[0m \u001b[0;34m=\u001b[0m \u001b[0mself\u001b[0m\u001b[0;34m.\u001b[0m\u001b[0mtrain_function\u001b[0m\u001b[0;34m(\u001b[0m\u001b[0miterator\u001b[0m\u001b[0;34m)\u001b[0m\u001b[0;34m\u001b[0m\u001b[0;34m\u001b[0m\u001b[0m\n\u001b[0m\u001b[1;32m   1101\u001b[0m               \u001b[0;32mif\u001b[0m \u001b[0mdata_handler\u001b[0m\u001b[0;34m.\u001b[0m\u001b[0mshould_sync\u001b[0m\u001b[0;34m:\u001b[0m\u001b[0;34m\u001b[0m\u001b[0;34m\u001b[0m\u001b[0m\n\u001b[1;32m   1102\u001b[0m                 \u001b[0mcontext\u001b[0m\u001b[0;34m.\u001b[0m\u001b[0masync_wait\u001b[0m\u001b[0;34m(\u001b[0m\u001b[0;34m)\u001b[0m\u001b[0;34m\u001b[0m\u001b[0;34m\u001b[0m\u001b[0m\n",
            "\u001b[0;32m/usr/local/lib/python3.7/dist-packages/tensorflow/python/eager/def_function.py\u001b[0m in \u001b[0;36m__call__\u001b[0;34m(self, *args, **kwds)\u001b[0m\n\u001b[1;32m    826\u001b[0m     \u001b[0mtracing_count\u001b[0m \u001b[0;34m=\u001b[0m \u001b[0mself\u001b[0m\u001b[0;34m.\u001b[0m\u001b[0mexperimental_get_tracing_count\u001b[0m\u001b[0;34m(\u001b[0m\u001b[0;34m)\u001b[0m\u001b[0;34m\u001b[0m\u001b[0;34m\u001b[0m\u001b[0m\n\u001b[1;32m    827\u001b[0m     \u001b[0;32mwith\u001b[0m \u001b[0mtrace\u001b[0m\u001b[0;34m.\u001b[0m\u001b[0mTrace\u001b[0m\u001b[0;34m(\u001b[0m\u001b[0mself\u001b[0m\u001b[0;34m.\u001b[0m\u001b[0m_name\u001b[0m\u001b[0;34m)\u001b[0m \u001b[0;32mas\u001b[0m \u001b[0mtm\u001b[0m\u001b[0;34m:\u001b[0m\u001b[0;34m\u001b[0m\u001b[0;34m\u001b[0m\u001b[0m\n\u001b[0;32m--> 828\u001b[0;31m       \u001b[0mresult\u001b[0m \u001b[0;34m=\u001b[0m \u001b[0mself\u001b[0m\u001b[0;34m.\u001b[0m\u001b[0m_call\u001b[0m\u001b[0;34m(\u001b[0m\u001b[0;34m*\u001b[0m\u001b[0margs\u001b[0m\u001b[0;34m,\u001b[0m \u001b[0;34m**\u001b[0m\u001b[0mkwds\u001b[0m\u001b[0;34m)\u001b[0m\u001b[0;34m\u001b[0m\u001b[0;34m\u001b[0m\u001b[0m\n\u001b[0m\u001b[1;32m    829\u001b[0m       \u001b[0mcompiler\u001b[0m \u001b[0;34m=\u001b[0m \u001b[0;34m\"xla\"\u001b[0m \u001b[0;32mif\u001b[0m \u001b[0mself\u001b[0m\u001b[0;34m.\u001b[0m\u001b[0m_experimental_compile\u001b[0m \u001b[0;32melse\u001b[0m \u001b[0;34m\"nonXla\"\u001b[0m\u001b[0;34m\u001b[0m\u001b[0;34m\u001b[0m\u001b[0m\n\u001b[1;32m    830\u001b[0m       \u001b[0mnew_tracing_count\u001b[0m \u001b[0;34m=\u001b[0m \u001b[0mself\u001b[0m\u001b[0;34m.\u001b[0m\u001b[0mexperimental_get_tracing_count\u001b[0m\u001b[0;34m(\u001b[0m\u001b[0;34m)\u001b[0m\u001b[0;34m\u001b[0m\u001b[0;34m\u001b[0m\u001b[0m\n",
            "\u001b[0;32m/usr/local/lib/python3.7/dist-packages/tensorflow/python/eager/def_function.py\u001b[0m in \u001b[0;36m_call\u001b[0;34m(self, *args, **kwds)\u001b[0m\n\u001b[1;32m    853\u001b[0m       \u001b[0;31m# In this case we have created variables on the first call, so we run the\u001b[0m\u001b[0;34m\u001b[0m\u001b[0;34m\u001b[0m\u001b[0;34m\u001b[0m\u001b[0m\n\u001b[1;32m    854\u001b[0m       \u001b[0;31m# defunned version which is guaranteed to never create variables.\u001b[0m\u001b[0;34m\u001b[0m\u001b[0;34m\u001b[0m\u001b[0;34m\u001b[0m\u001b[0m\n\u001b[0;32m--> 855\u001b[0;31m       \u001b[0;32mreturn\u001b[0m \u001b[0mself\u001b[0m\u001b[0;34m.\u001b[0m\u001b[0m_stateless_fn\u001b[0m\u001b[0;34m(\u001b[0m\u001b[0;34m*\u001b[0m\u001b[0margs\u001b[0m\u001b[0;34m,\u001b[0m \u001b[0;34m**\u001b[0m\u001b[0mkwds\u001b[0m\u001b[0;34m)\u001b[0m  \u001b[0;31m# pylint: disable=not-callable\u001b[0m\u001b[0;34m\u001b[0m\u001b[0;34m\u001b[0m\u001b[0m\n\u001b[0m\u001b[1;32m    856\u001b[0m     \u001b[0;32melif\u001b[0m \u001b[0mself\u001b[0m\u001b[0;34m.\u001b[0m\u001b[0m_stateful_fn\u001b[0m \u001b[0;32mis\u001b[0m \u001b[0;32mnot\u001b[0m \u001b[0;32mNone\u001b[0m\u001b[0;34m:\u001b[0m\u001b[0;34m\u001b[0m\u001b[0;34m\u001b[0m\u001b[0m\n\u001b[1;32m    857\u001b[0m       \u001b[0;31m# Release the lock early so that multiple threads can perform the call\u001b[0m\u001b[0;34m\u001b[0m\u001b[0;34m\u001b[0m\u001b[0;34m\u001b[0m\u001b[0m\n",
            "\u001b[0;32m/usr/local/lib/python3.7/dist-packages/tensorflow/python/eager/function.py\u001b[0m in \u001b[0;36m__call__\u001b[0;34m(self, *args, **kwargs)\u001b[0m\n\u001b[1;32m   2941\u001b[0m        filtered_flat_args) = self._maybe_define_function(args, kwargs)\n\u001b[1;32m   2942\u001b[0m     return graph_function._call_flat(\n\u001b[0;32m-> 2943\u001b[0;31m         filtered_flat_args, captured_inputs=graph_function.captured_inputs)  # pylint: disable=protected-access\n\u001b[0m\u001b[1;32m   2944\u001b[0m \u001b[0;34m\u001b[0m\u001b[0m\n\u001b[1;32m   2945\u001b[0m   \u001b[0;34m@\u001b[0m\u001b[0mproperty\u001b[0m\u001b[0;34m\u001b[0m\u001b[0;34m\u001b[0m\u001b[0m\n",
            "\u001b[0;32m/usr/local/lib/python3.7/dist-packages/tensorflow/python/eager/function.py\u001b[0m in \u001b[0;36m_call_flat\u001b[0;34m(self, args, captured_inputs, cancellation_manager)\u001b[0m\n\u001b[1;32m   1917\u001b[0m       \u001b[0;31m# No tape is watching; skip to running the function.\u001b[0m\u001b[0;34m\u001b[0m\u001b[0;34m\u001b[0m\u001b[0;34m\u001b[0m\u001b[0m\n\u001b[1;32m   1918\u001b[0m       return self._build_call_outputs(self._inference_function.call(\n\u001b[0;32m-> 1919\u001b[0;31m           ctx, args, cancellation_manager=cancellation_manager))\n\u001b[0m\u001b[1;32m   1920\u001b[0m     forward_backward = self._select_forward_and_backward_functions(\n\u001b[1;32m   1921\u001b[0m         \u001b[0margs\u001b[0m\u001b[0;34m,\u001b[0m\u001b[0;34m\u001b[0m\u001b[0;34m\u001b[0m\u001b[0m\n",
            "\u001b[0;32m/usr/local/lib/python3.7/dist-packages/tensorflow/python/eager/function.py\u001b[0m in \u001b[0;36mcall\u001b[0;34m(self, ctx, args, cancellation_manager)\u001b[0m\n\u001b[1;32m    558\u001b[0m               \u001b[0minputs\u001b[0m\u001b[0;34m=\u001b[0m\u001b[0margs\u001b[0m\u001b[0;34m,\u001b[0m\u001b[0;34m\u001b[0m\u001b[0;34m\u001b[0m\u001b[0m\n\u001b[1;32m    559\u001b[0m               \u001b[0mattrs\u001b[0m\u001b[0;34m=\u001b[0m\u001b[0mattrs\u001b[0m\u001b[0;34m,\u001b[0m\u001b[0;34m\u001b[0m\u001b[0;34m\u001b[0m\u001b[0m\n\u001b[0;32m--> 560\u001b[0;31m               ctx=ctx)\n\u001b[0m\u001b[1;32m    561\u001b[0m         \u001b[0;32melse\u001b[0m\u001b[0;34m:\u001b[0m\u001b[0;34m\u001b[0m\u001b[0;34m\u001b[0m\u001b[0m\n\u001b[1;32m    562\u001b[0m           outputs = execute.execute_with_cancellation(\n",
            "\u001b[0;32m/usr/local/lib/python3.7/dist-packages/tensorflow/python/eager/execute.py\u001b[0m in \u001b[0;36mquick_execute\u001b[0;34m(op_name, num_outputs, inputs, attrs, ctx, name)\u001b[0m\n\u001b[1;32m     58\u001b[0m     \u001b[0mctx\u001b[0m\u001b[0;34m.\u001b[0m\u001b[0mensure_initialized\u001b[0m\u001b[0;34m(\u001b[0m\u001b[0;34m)\u001b[0m\u001b[0;34m\u001b[0m\u001b[0;34m\u001b[0m\u001b[0m\n\u001b[1;32m     59\u001b[0m     tensors = pywrap_tfe.TFE_Py_Execute(ctx._handle, device_name, op_name,\n\u001b[0;32m---> 60\u001b[0;31m                                         inputs, attrs, num_outputs)\n\u001b[0m\u001b[1;32m     61\u001b[0m   \u001b[0;32mexcept\u001b[0m \u001b[0mcore\u001b[0m\u001b[0;34m.\u001b[0m\u001b[0m_NotOkStatusException\u001b[0m \u001b[0;32mas\u001b[0m \u001b[0me\u001b[0m\u001b[0;34m:\u001b[0m\u001b[0;34m\u001b[0m\u001b[0;34m\u001b[0m\u001b[0m\n\u001b[1;32m     62\u001b[0m     \u001b[0;32mif\u001b[0m \u001b[0mname\u001b[0m \u001b[0;32mis\u001b[0m \u001b[0;32mnot\u001b[0m \u001b[0;32mNone\u001b[0m\u001b[0;34m:\u001b[0m\u001b[0;34m\u001b[0m\u001b[0;34m\u001b[0m\u001b[0m\n",
            "\u001b[0;31mKeyboardInterrupt\u001b[0m: "
          ]
        }
      ]
    }
  ]
}