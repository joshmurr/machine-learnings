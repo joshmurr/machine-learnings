{
  "nbformat": 4,
  "nbformat_minor": 0,
  "metadata": {
    "colab": {
      "name": "DCGAN-Keras-Cutsom-Dataset.ipynb",
      "provenance": [],
      "authorship_tag": "ABX9TyOvSiuR1x8Bpw8Xa3dlnGRU",
      "include_colab_link": true
    },
    "kernelspec": {
      "name": "python3",
      "display_name": "Python 3"
    },
    "accelerator": "GPU"
  },
  "cells": [
    {
      "cell_type": "markdown",
      "metadata": {
        "id": "view-in-github",
        "colab_type": "text"
      },
      "source": [
        "<a href=\"https://colab.research.google.com/github/joshmurr/machine-learnings/blob/master/cci-dsai/DCGAN_Keras_Cutsom_Dataset.ipynb\" target=\"_parent\"><img src=\"https://colab.research.google.com/assets/colab-badge.svg\" alt=\"Open In Colab\"/></a>"
      ]
    },
    {
      "cell_type": "markdown",
      "metadata": {
        "id": "G1CXqrESDzz5"
      },
      "source": [
        "# DCGAN - Custom Dataset\n",
        "## Deep Convolutional GAN\n",
        "\n",
        "This is much the same as the previous notebook we looked at (still using the [official Keras DCGAN implementation](https://keras.io/examples/generative/dcgan_overriding_train_step/)) but I have some extra code at the start to allow you to make your own dataset from a YouTube video!"
      ]
    },
    {
      "cell_type": "code",
      "metadata": {
        "id": "WcXXG7NMcHAl"
      },
      "source": [
        "import tensorflow as tf\n",
        "from tensorflow import keras\n",
        "from tensorflow.keras import layers\n",
        "import numpy as np\n",
        "import matplotlib.pyplot as plt\n",
        "import os\n",
        "import gdown\n",
        "from zipfile import ZipFile\n",
        "import cv2\n",
        "import math\n",
        "import random"
      ],
      "execution_count": 1,
      "outputs": []
    },
    {
      "cell_type": "code",
      "metadata": {
        "colab": {
          "base_uri": "https://localhost:8080/"
        },
        "id": "CotjyJ1-ewMz",
        "outputId": "41237135-92c5-40e5-deef-042150d7e268"
      },
      "source": [
        "print(\"Num GPUs Available: \", len(tf.config.list_physical_devices('GPU')))"
      ],
      "execution_count": 2,
      "outputs": [
        {
          "output_type": "stream",
          "name": "stdout",
          "text": [
            "Num GPUs Available:  1\n"
          ]
        }
      ]
    },
    {
      "cell_type": "markdown",
      "metadata": {
        "id": "hFQoTc66Mi4f"
      },
      "source": [
        "We have to install [YouTube-DL](https://youtube-dl.org/) via pip in the cell below."
      ]
    },
    {
      "cell_type": "code",
      "metadata": {
        "id": "eMkxqCTQif06",
        "outputId": "f7877c87-8771-45d9-fe5c-886cc7e9c9e9",
        "colab": {
          "base_uri": "https://localhost:8080/"
        }
      },
      "source": [
        "!pip install --upgrade --quiet youtube_dl"
      ],
      "execution_count": 3,
      "outputs": [
        {
          "output_type": "stream",
          "name": "stdout",
          "text": [
            "\u001b[K     |████████████████████████████████| 1.9 MB 4.3 MB/s \n",
            "\u001b[?25h"
          ]
        }
      ]
    },
    {
      "cell_type": "markdown",
      "metadata": {
        "id": "RSx3LqLKMveN"
      },
      "source": [
        "All you need to do is to run the cell below. It just contains helper functions to download a YouTube video and to extract frames from the video to make the dataset. Feel free to poke around if you're interested."
      ]
    },
    {
      "cell_type": "code",
      "metadata": {
        "id": "KCo8qlByilMl"
      },
      "source": [
        "# Some helper functions we will use to make the dataset\n",
        "\n",
        "from __future__ import unicode_literals\n",
        "import youtube_dl\n",
        "\n",
        "\n",
        "class MyLogger(object):\n",
        "    def debug(self, msg):\n",
        "        pass\n",
        "\n",
        "    def warning(self, msg):\n",
        "        pass\n",
        "\n",
        "    def error(self, msg):\n",
        "        print(msg)\n",
        "\n",
        "\n",
        "def my_hook(d):\n",
        "    if d['status'] == 'finished':\n",
        "        print('Done downloading.')\n",
        "\n",
        "def download_youtube_video(_url):\n",
        "  ydl_opts = {\n",
        "      'format': '(mp4)[height>=256][height<=400]',\n",
        "      'outtmpl': '%(id)s.%(ext)s',\n",
        "      'logger': MyLogger(),\n",
        "      'progress_hooks': [my_hook],\n",
        "  }\n",
        "  try:\n",
        "    with youtube_dl.YoutubeDL(ydl_opts) as ydl:\n",
        "        result = ydl.extract_info(_url, download=True)\n",
        "  except:\n",
        "    print(\"An error occured downloading the video :(\")\n",
        "\n",
        "  if 'entries' in result:\n",
        "    video = result['entries'][0]\n",
        "  else:\n",
        "    video = result\n",
        "\n",
        "  return video\n",
        "\n",
        "def analyse_video(_videoPath):\n",
        "  vidcap = cv2.VideoCapture(_videoPath)\n",
        "  success, frame = vidcap.read()\n",
        "\n",
        "  frameCount = 0\n",
        "  darkFrames = []\n",
        "  validFrames = []\n",
        "\n",
        "  while success:\n",
        "    grey = cv2.cvtColor(frame, cv2.COLOR_BGR2GRAY)\n",
        "    average = grey.mean(axis=0).mean(axis=0)\n",
        "\n",
        "    if average < 2:\n",
        "      darkFrames.append(frameCount)\n",
        "    else:\n",
        "      validFrames.append(frameCount)\n",
        "    \n",
        "    success, frame = vidcap.read()\n",
        "    frameCount += 1\n",
        "  \n",
        "  print(f'Found {len(darkFrames)} dark frames.')\n",
        "  return validFrames, darkFrames\n",
        "\n",
        "def extract_frames(_videoPath, _outputPath, _num, _size):\n",
        "  SIZE = _size[0]\n",
        "  MAX = _num\n",
        "  count = 0\n",
        "  id = 0\n",
        "  validFrames, darkFrames = analyse_video(_videoPath)\n",
        "  doubles = []\n",
        "  frames = []\n",
        "\n",
        "  if MAX > len(validFrames):\n",
        "    numDoubles = MAX - len(validFrames)\n",
        "    doubles = np.random.choice(validFrames, size=numDoubles, replace=False)\n",
        "    frames = validFrames\n",
        "  else:\n",
        "    frames = np.random.choice(validFrames, size=MAX, replace=False)\n",
        "\n",
        "  vidcap = cv2.VideoCapture(_videoPath)\n",
        "  success, frame = vidcap.read()\n",
        "\n",
        "  frameHeight = frame.shape[0]\n",
        "  frameWidth = frame.shape[1]\n",
        "\n",
        "  scaleFactor = SIZE / frameHeight\n",
        "  newWidth = int(frameWidth * scaleFactor)\n",
        "  padding = int((newWidth - SIZE) / 2)\n",
        "\n",
        "  while success:\n",
        "    if count in frames:\n",
        "      frame = cv2.resize(frame, (newWidth, SIZE), interpolation=cv2.INTER_AREA)\n",
        "      crops = []\n",
        "\n",
        "      if count in doubles:\n",
        "        crops = [frame[0:SIZE, 0:SIZE],\n",
        "                frame[0:SIZE, padding*2:SIZE+padding*2]]\n",
        "      else:\n",
        "        crops = [frame[0:SIZE, padding:SIZE+padding]]\n",
        "\n",
        "      for crop in crops:\n",
        "        try:\n",
        "          cv2.imwrite(os.path.join(_outputPath, f'{id:04}.jpg'), crop)\n",
        "          id += 1\n",
        "        except:\n",
        "          print(\"Error saving frame.\")\n",
        "          pass\n",
        "    \n",
        "    count += 1\n",
        "    success, frame = vidcap.read()\n",
        "\n",
        "  print(f\"Saved {id} images from video '{videoInfo['title']}'\")\n",
        "\n",
        "  return id"
      ],
      "execution_count": 8,
      "outputs": []
    },
    {
      "cell_type": "markdown",
      "metadata": {
        "id": "IbvkuYrrKMZ8"
      },
      "source": [
        "# Choose a YouTube Video\n",
        "\n",
        "Find a video on YouTube which is about 4-10 minutes long. The video can be anything but ideally it will be generally consistent throughout. So timelapse video are perfect, [like this video of clouds forming](https://www.youtube.com/watch?v=NJfI_GaEyJw), or [this video of life underwater](https://www.youtube.com/watch?v=J2BKd5e15Jc) has nice consistent colours and forms. However it is entirely up to you, maybe it would be interesting to get a random video of Lady Gaga dresses.. who knows!\n",
        "\n",
        "Paste the YouTube video URL in the cell below, __replacing the url that is between the single quotes__.\n",
        "\n",
        "If the URL is long like this:\n",
        "\n",
        "```\n",
        "https://www.youtube.com/watch?v=NJfI_GaEyJw&ab_channel=wizard327\n",
        "                                           ^\n",
        "                       We don't need the stuff after this & symbol.\n",
        "```\n",
        "\n",
        "just trim the end off after (and including) the '__&__' symbol."
      ]
    },
    {
      "cell_type": "code",
      "metadata": {
        "colab": {
          "base_uri": "https://localhost:8080/"
        },
        "id": "RoIgi2xYisel",
        "outputId": "2f68d1ce-1b87-4543-a14c-26521a4216e6"
      },
      "source": [
        "url = 'https://www.youtube.com/watch?v=J2BKd5e15Jc' # Coral Reef\n",
        "videoInfo = download_youtube_video(url)\n",
        "videoFile = \"{0}.{1}\".format(videoInfo['webpage_url'].split('=')[-1], videoInfo['ext'])"
      ],
      "execution_count": 10,
      "outputs": [
        {
          "output_type": "stream",
          "name": "stdout",
          "text": [
            "Done downloading.\n"
          ]
        }
      ]
    },
    {
      "cell_type": "markdown",
      "metadata": {
        "id": "N_-OFQLWL-U8"
      },
      "source": [
        "If your video has an intro and an outro we can trim that off! Change the `startTime` and `endTime` values below. The values need to be in seconds, so if the good bit of the video start at 38 seconds then enter `38` for `startTime`. If the end credits start at 9:14, then an easy way to find the seconds is `(9*60)+14`.\n",
        "\n",
        "__If you don't need to trim the video down then just don't run the cell below.__"
      ]
    },
    {
      "cell_type": "code",
      "metadata": {
        "colab": {
          "base_uri": "https://localhost:8080/"
        },
        "id": "m61KiSm-iugQ",
        "outputId": "d697af71-0875-47d2-e9f5-ded91808e8e0"
      },
      "source": [
        "# Optional trimming of the video to remove intro / end credits.\n",
        "# Skip this if your video does not need trimming.\n",
        "\n",
        "from moviepy.video.io.ffmpeg_tools import ffmpeg_extract_subclip\n",
        "\n",
        "def trim_video(_video, _start, _end):\n",
        "  trimmedVideo = f\"trimmed.{videoInfo['ext']}\"\n",
        "  ffmpeg_extract_subclip(videoFile, _start, _end, targetname=trimmedVideo)\n",
        "  return trimmedVideo\n",
        "\n",
        "\n",
        "startTime = 38\n",
        "endTime = (9*60)+14\n",
        "videoFile = trim_video(videoFile, startTime, endTime)"
      ],
      "execution_count": 11,
      "outputs": [
        {
          "output_type": "stream",
          "name": "stdout",
          "text": [
            "\n",
            "[MoviePy] Running:\n",
            ">>> /usr/bin/ffmpeg -y -i J2BKd5e15Jc.mp4 -ss 38.00 -t 516.00 -vcodec copy -acodec copy trimmed.mp4\n",
            "... command successful.\n"
          ]
        }
      ]
    },
    {
      "cell_type": "markdown",
      "metadata": {
        "id": "kWdv0dpWN7Gh"
      },
      "source": [
        "Next we make some directories and extract 3000 images from the the video."
      ]
    },
    {
      "cell_type": "code",
      "metadata": {
        "id": "tRHTno-9cMG4",
        "colab": {
          "base_uri": "https://localhost:8080/"
        },
        "outputId": "a1eba99b-6ed7-4e75-80d3-6457f0d089dc"
      },
      "source": [
        "DATASET_DIR = 'dataset'\n",
        "IMAGES_DIR = f\"{DATASET_DIR}/images\"\n",
        "OUTPUT_DIR = 'output'\n",
        "IMAGE_SIZE =(64, 64)\n",
        "try:\n",
        "  os.makedirs(DATASET_DIR)\n",
        "  os.makedirs(IMAGES_DIR)\n",
        "  os.makedirs(OUTPUT_DIR)\n",
        "except:\n",
        "  pass\n",
        "NUM_IMAGES = extract_frames(f\"/content/{videoFile}\", IMAGES_DIR, 3000, IMAGE_SIZE)"
      ],
      "execution_count": 12,
      "outputs": [
        {
          "output_type": "stream",
          "name": "stdout",
          "text": [
            "Found 31 dark frames.\n",
            "Saved 3000 images from video 'Exploring the Coral Reef: Learn about Oceans for Kids - FreeSchool'\n"
          ]
        }
      ]
    },
    {
      "cell_type": "markdown",
      "metadata": {
        "id": "mcVHKvapOCSa"
      },
      "source": [
        "As with before we then turn it into a _Tensorflow dataset_."
      ]
    },
    {
      "cell_type": "code",
      "metadata": {
        "colab": {
          "base_uri": "https://localhost:8080/"
        },
        "id": "VEpCzNfCc0_7",
        "outputId": "837bd7a7-2e60-4db5-bc58-481553da3018"
      },
      "source": [
        "dataset = keras.preprocessing.image_dataset_from_directory(\n",
        "    DATASET_DIR, label_mode=None, image_size=IMAGE_SIZE, batch_size=32\n",
        ")\n",
        "dataset = dataset.map(lambda x: x / 255.0)"
      ],
      "execution_count": 13,
      "outputs": [
        {
          "output_type": "stream",
          "name": "stdout",
          "text": [
            "Found 3000 files belonging to 1 classes.\n"
          ]
        }
      ]
    },
    {
      "cell_type": "markdown",
      "metadata": {
        "id": "28RcFXw8OGsY"
      },
      "source": [
        "All things going well, if you run the cell below you should see frames from the video you chose being taken from the dataset we created."
      ]
    },
    {
      "cell_type": "code",
      "metadata": {
        "colab": {
          "base_uri": "https://localhost:8080/",
          "height": 248
        },
        "id": "DNOYzTQac1od",
        "outputId": "af77a83f-d5f8-4784-b30e-8bd083168fd5"
      },
      "source": [
        "for x in dataset:\n",
        "    plt.axis(\"off\")\n",
        "    plt.imshow((x.numpy() * 255).astype(\"int32\")[0])\n",
        "    break"
      ],
      "execution_count": 14,
      "outputs": [
        {
          "output_type": "display_data",
          "data": {
            "image/png": "[encoded data removed]",
            "text/plain": [
              "<Figure size 432x288 with 1 Axes>"
            ]
          },
          "metadata": {
            "needs_background": "light"
          }
        }
      ]
    },
    {
      "cell_type": "markdown",
      "metadata": {
        "id": "Ahot01TYOOKW"
      },
      "source": [
        "# Defining the Model\n",
        "\n",
        "This is the same as the previous example."
      ]
    },
    {
      "cell_type": "code",
      "metadata": {
        "colab": {
          "base_uri": "https://localhost:8080/"
        },
        "id": "SPjWwh8CdeK8",
        "outputId": "ab2b5dcc-15c7-4245-c807-e9614348aa16"
      },
      "source": [
        "discriminator = keras.Sequential(\n",
        "    [\n",
        "        keras.Input(shape=(64, 64, 3)),\n",
        "        layers.Conv2D(64, kernel_size=4, strides=2, padding=\"same\"),\n",
        "        layers.LeakyReLU(alpha=0.2),\n",
        "        layers.Conv2D(128, kernel_size=4, strides=2, padding=\"same\"),\n",
        "        layers.LeakyReLU(alpha=0.2),\n",
        "        layers.Conv2D(128, kernel_size=4, strides=2, padding=\"same\"),\n",
        "        layers.LeakyReLU(alpha=0.2),\n",
        "        layers.Flatten(),\n",
        "        layers.Dropout(0.2),\n",
        "        layers.Dense(1, activation=\"sigmoid\"),\n",
        "    ],\n",
        "    name=\"discriminator\",\n",
        ")\n",
        "discriminator.summary()\n"
      ],
      "execution_count": 15,
      "outputs": [
        {
          "output_type": "stream",
          "name": "stdout",
          "text": [
            "Model: \"discriminator\"\n",
            "_________________________________________________________________\n",
            "Layer (type)                 Output Shape              Param #   \n",
            "=================================================================\n",
            "conv2d (Conv2D)              (None, 32, 32, 64)        3136      \n",
            "_________________________________________________________________\n",
            "leaky_re_lu (LeakyReLU)      (None, 32, 32, 64)        0         \n",
            "_________________________________________________________________\n",
            "conv2d_1 (Conv2D)            (None, 16, 16, 128)       131200    \n",
            "_________________________________________________________________\n",
            "leaky_re_lu_1 (LeakyReLU)    (None, 16, 16, 128)       0         \n",
            "_________________________________________________________________\n",
            "conv2d_2 (Conv2D)            (None, 8, 8, 128)         262272    \n",
            "_________________________________________________________________\n",
            "leaky_re_lu_2 (LeakyReLU)    (None, 8, 8, 128)         0         \n",
            "_________________________________________________________________\n",
            "flatten (Flatten)            (None, 8192)              0         \n",
            "_________________________________________________________________\n",
            "dropout (Dropout)            (None, 8192)              0         \n",
            "_________________________________________________________________\n",
            "dense (Dense)                (None, 1)                 8193      \n",
            "=================================================================\n",
            "Total params: 404,801\n",
            "Trainable params: 404,801\n",
            "Non-trainable params: 0\n",
            "_________________________________________________________________\n"
          ]
        }
      ]
    },
    {
      "cell_type": "code",
      "metadata": {
        "colab": {
          "base_uri": "https://localhost:8080/"
        },
        "id": "Ve5WyO5vdhg7",
        "outputId": "55f8c874-e8cd-4c80-969b-e3fec4652734"
      },
      "source": [
        "latent_dim = 128\n",
        "\n",
        "generator = keras.Sequential(\n",
        "    [\n",
        "        keras.Input(shape=(latent_dim,)),\n",
        "        layers.Dense(8 * 8 * 128),\n",
        "        layers.Reshape((8, 8, 128)),\n",
        "        layers.Conv2DTranspose(128, kernel_size=4, strides=2, padding=\"same\"),\n",
        "        layers.LeakyReLU(alpha=0.2),\n",
        "        layers.Conv2DTranspose(256, kernel_size=4, strides=2, padding=\"same\"),\n",
        "        layers.LeakyReLU(alpha=0.2),\n",
        "        layers.Conv2DTranspose(512, kernel_size=4, strides=2, padding=\"same\"),\n",
        "        layers.LeakyReLU(alpha=0.2),\n",
        "        layers.Conv2D(3, kernel_size=5, padding=\"same\", activation=\"sigmoid\"),\n",
        "    ],\n",
        "    name=\"generator\",\n",
        ")\n",
        "generator.summary()"
      ],
      "execution_count": 16,
      "outputs": [
        {
          "output_type": "stream",
          "name": "stdout",
          "text": [
            "Model: \"generator\"\n",
            "_________________________________________________________________\n",
            "Layer (type)                 Output Shape              Param #   \n",
            "=================================================================\n",
            "dense_1 (Dense)              (None, 8192)              1056768   \n",
            "_________________________________________________________________\n",
            "reshape (Reshape)            (None, 8, 8, 128)         0         \n",
            "_________________________________________________________________\n",
            "conv2d_transpose (Conv2DTran (None, 16, 16, 128)       262272    \n",
            "_________________________________________________________________\n",
            "leaky_re_lu_3 (LeakyReLU)    (None, 16, 16, 128)       0         \n",
            "_________________________________________________________________\n",
            "conv2d_transpose_1 (Conv2DTr (None, 32, 32, 256)       524544    \n",
            "_________________________________________________________________\n",
            "leaky_re_lu_4 (LeakyReLU)    (None, 32, 32, 256)       0         \n",
            "_________________________________________________________________\n",
            "conv2d_transpose_2 (Conv2DTr (None, 64, 64, 512)       2097664   \n",
            "_________________________________________________________________\n",
            "leaky_re_lu_5 (LeakyReLU)    (None, 64, 64, 512)       0         \n",
            "_________________________________________________________________\n",
            "conv2d_3 (Conv2D)            (None, 64, 64, 3)         38403     \n",
            "=================================================================\n",
            "Total params: 3,979,651\n",
            "Trainable params: 3,979,651\n",
            "Non-trainable params: 0\n",
            "_________________________________________________________________\n"
          ]
        }
      ]
    },
    {
      "cell_type": "code",
      "metadata": {
        "id": "28BVDjCNdnT4"
      },
      "source": [
        "class GAN(keras.Model):\n",
        "    def __init__(self, discriminator, generator, latent_dim):\n",
        "        super(GAN, self).__init__()\n",
        "        self.discriminator = discriminator\n",
        "        self.generator = generator\n",
        "        self.latent_dim = latent_dim\n",
        "\n",
        "    def compile(self, d_optimizer, g_optimizer, loss_fn):\n",
        "        super(GAN, self).compile()\n",
        "        self.d_optimizer = d_optimizer\n",
        "        self.g_optimizer = g_optimizer\n",
        "        self.loss_fn = loss_fn\n",
        "        self.d_loss_metric = keras.metrics.Mean(name=\"d_loss\")\n",
        "        self.g_loss_metric = keras.metrics.Mean(name=\"g_loss\")\n",
        "\n",
        "    @property\n",
        "    def metrics(self):\n",
        "        return [self.d_loss_metric, self.g_loss_metric]\n",
        "\n",
        "    def train_step(self, real_images):\n",
        "        # Sample random points in the latent space\n",
        "        batch_size = tf.shape(real_images)[0]\n",
        "        random_latent_vectors = tf.random.normal(shape=(batch_size, self.latent_dim))\n",
        "\n",
        "        # Decode them to fake images\n",
        "        generated_images = self.generator(random_latent_vectors)\n",
        "\n",
        "        # Combine them with real images\n",
        "        combined_images = tf.concat([generated_images, real_images], axis=0)\n",
        "\n",
        "        # Assemble labels discriminating real from fake images\n",
        "        labels = tf.concat(\n",
        "            [tf.ones((batch_size, 1)), tf.zeros((batch_size, 1))], axis=0\n",
        "        )\n",
        "        # Add random noise to the labels - important trick!\n",
        "        labels += 0.05 * tf.random.uniform(tf.shape(labels))\n",
        "\n",
        "        # Train the discriminator\n",
        "        with tf.GradientTape() as tape:\n",
        "            predictions = self.discriminator(combined_images)\n",
        "            d_loss = self.loss_fn(labels, predictions)\n",
        "        grads = tape.gradient(d_loss, self.discriminator.trainable_weights)\n",
        "        self.d_optimizer.apply_gradients(\n",
        "            zip(grads, self.discriminator.trainable_weights)\n",
        "        )\n",
        "\n",
        "        # Sample random points in the latent space\n",
        "        random_latent_vectors = tf.random.normal(shape=(batch_size, self.latent_dim))\n",
        "\n",
        "        # Assemble labels that say \"all real images\"\n",
        "        misleading_labels = tf.zeros((batch_size, 1))\n",
        "\n",
        "        # Train the generator (note that we should *not* update the weights\n",
        "        # of the discriminator)!\n",
        "        with tf.GradientTape() as tape:\n",
        "            predictions = self.discriminator(self.generator(random_latent_vectors))\n",
        "            g_loss = self.loss_fn(misleading_labels, predictions)\n",
        "        grads = tape.gradient(g_loss, self.generator.trainable_weights)\n",
        "        self.g_optimizer.apply_gradients(zip(grads, self.generator.trainable_weights))\n",
        "\n",
        "        # Update metrics\n",
        "        self.d_loss_metric.update_state(d_loss)\n",
        "        self.g_loss_metric.update_state(g_loss)\n",
        "        return {\n",
        "            \"d_loss\": self.d_loss_metric.result(),\n",
        "            \"g_loss\": self.g_loss_metric.result(),\n",
        "        }"
      ],
      "execution_count": 17,
      "outputs": []
    },
    {
      "cell_type": "code",
      "metadata": {
        "id": "BlygRVfXdrCK"
      },
      "source": [
        "class GANMonitor(keras.callbacks.Callback):\n",
        "    def __init__(self, num_img=1, latent_dim=128):\n",
        "        self.num_img = num_img\n",
        "        self.latent_dim = latent_dim\n",
        "\n",
        "    def on_epoch_end(self, epoch, logs=None):\n",
        "        random_latent_vectors = tf.random.normal(shape=(self.num_img, self.latent_dim))\n",
        "        generated_images = self.model.generator(random_latent_vectors)\n",
        "        generated_images *= 255\n",
        "        generated_images.numpy()\n",
        "        for i in range(self.num_img):\n",
        "            img = keras.preprocessing.image.array_to_img(generated_images[i])\n",
        "            img.save(os.path.join(OUTPUT_DIR, \"generated_img_%03d_%d.png\" % (epoch, i)))\n"
      ],
      "execution_count": 18,
      "outputs": []
    },
    {
      "cell_type": "markdown",
      "metadata": {
        "id": "ilBtgRC2OS6E"
      },
      "source": [
        "# Train the GAN\n",
        "\n",
        "Now our dataset is much much smaller than [CelebA](http://mmlab.ie.cuhk.edu.hk/projects/CelebA.html) and so this will train a lot quicker.\n",
        "\n",
        "Unfortunately Keras likes to output a lot of it's own information during training which makes it difficult to display images using `imshow` or something similar. But as with before images from the generator are saved to a directory called `output` which you can find in the file explorer on the left."
      ]
    },
    {
      "cell_type": "code",
      "metadata": {
        "colab": {
          "base_uri": "https://localhost:8080/"
        },
        "id": "KjCwDPALdtgA",
        "outputId": "7df92d57-2541-45fe-db5d-dbae2fd988cd"
      },
      "source": [
        "epochs = 1\n",
        "\n",
        "gan = GAN(discriminator=discriminator, generator=generator, latent_dim=latent_dim)\n",
        "gan.compile(\n",
        "    d_optimizer=keras.optimizers.Adam(learning_rate=0.0001),\n",
        "    g_optimizer=keras.optimizers.Adam(learning_rate=0.0001),\n",
        "    loss_fn=keras.losses.BinaryCrossentropy(),\n",
        ")\n",
        "\n",
        "gan.fit(\n",
        "    dataset, epochs=epochs, callbacks=[GANMonitor(num_img=1, latent_dim=latent_dim)]\n",
        ")"
      ],
      "execution_count": 19,
      "outputs": [
        {
          "output_type": "stream",
          "name": "stdout",
          "text": [
            "94/94 [==============================] - 101s 709ms/step - d_loss: 0.6264 - g_loss: 1.0984\n"
          ]
        },
        {
          "output_type": "execute_result",
          "data": {
            "text/plain": [
              "<keras.callbacks.History at 0x7f47d7fb8590>"
            ]
          },
          "metadata": {},
          "execution_count": 19
        }
      ]
    },
    {
      "cell_type": "markdown",
      "metadata": {
        "id": "Mn5y9XD3tzJt"
      },
      "source": [
        "# Display Results"
      ]
    },
    {
      "cell_type": "code",
      "metadata": {
        "id": "FYnNHLNirrtX",
        "outputId": "ef4d8e3b-c46d-4a21-bc77-fdd58b8e6196",
        "colab": {
          "base_uri": "https://localhost:8080/",
          "height": 901
        }
      },
      "source": [
        "from mpl_toolkits.axes_grid1 import ImageGrid\n",
        "import matplotlib.image as mpimg\n",
        "\n",
        "\n",
        "fig = plt.figure(figsize=(16., 16.))\n",
        "grid = ImageGrid(fig, 111,  # similar to subplot(111)\n",
        "                 nrows_ncols=(2, 5),  # creates 5x2 grid of axes\n",
        "                 axes_pad=0,  # pad between axes in inch.\n",
        "                 )\n",
        "\n",
        "images = [f\"/content/output/generated_img_00{x}_0.png\" for x in range(epochs)]\n",
        "\n",
        "for ax, im in zip(grid, images):\n",
        "    # Iterating over the grid returns the Axes.\n",
        "    img = mpimg.imread(im)\n",
        "    ax.imshow(img)\n",
        "\n",
        "plt.show()"
      ],
      "execution_count": 30,
      "outputs": [
        {
          "output_type": "display_data",
          "data": {
            "image/png": "[encoded data removed]",
            "text/plain": [
              "<Figure size 1152x1152 with 20 Axes>"
            ]
          },
          "metadata": {
            "needs_background": "light"
          }
        }
      ]
    },
    {
      "cell_type": "markdown",
      "metadata": {
        "id": "O0tPBlhsI5vm"
      },
      "source": [
        "# Saving a Model\n",
        "\n",
        "It's nice to be able to hold on to a model you've saved so you can use it at a later date. Keras (and most ML frameworks) makes this pretty easy for you.\n",
        "\n",
        "First we make a new directory to save the model into. We only really care about the generator of our can (it's the bit that makes the images after all) so we access the generator from our GAN _object_ and call `.save(< directory >)` on that."
      ]
    },
    {
      "cell_type": "code",
      "metadata": {
        "id": "_RFwq3AyHiAW",
        "colab": {
          "base_uri": "https://localhost:8080/"
        },
        "outputId": "fcff7e3b-4b51-4566-9474-a6704ad3aab7"
      },
      "source": [
        "# Make a new directory to save the model into\n",
        "try:\n",
        "  MODEL_DIR_NAME = 'model'\n",
        "  os.mkdir(MODEL_DIR_NAME)\n",
        "  gan.generator.save(MODEL_DIR_NAME) # We're just saving the generator here as that's the interesting bit!\n",
        "except:\n",
        "  print('Error making \"/model\" directory.')\n",
        "  print('Perhaps it already exists??')"
      ],
      "execution_count": 21,
      "outputs": [
        {
          "output_type": "stream",
          "name": "stdout",
          "text": [
            "WARNING:tensorflow:Compiled the loaded model, but the compiled metrics have yet to be built. `model.compile_metrics` will be empty until you train or evaluate the model.\n",
            "INFO:tensorflow:Assets written to: model/assets\n"
          ]
        }
      ]
    },
    {
      "cell_type": "markdown",
      "metadata": {
        "id": "MylfFrHCWof2"
      },
      "source": [
        "### Optional: Save your model to Google Drive\n",
        "\n",
        "As soon as this Colab session ends we lose all our saved data and all the training will be lost! So best to move it straight over to your Google Drive. "
      ]
    },
    {
      "cell_type": "code",
      "metadata": {
        "id": "GTQ8KHFIHzG5",
        "colab": {
          "base_uri": "https://localhost:8080/"
        },
        "outputId": "97ae7706-e74d-4cd5-fba9-146c8eadd3c4"
      },
      "source": [
        "# Give Colab access to your Google Drive\n",
        "from google.colab import drive\n",
        "drive.mount('/content/drive')"
      ],
      "execution_count": null,
      "outputs": [
        {
          "output_type": "stream",
          "text": [
            "Mounted at /content/drive\n"
          ],
          "name": "stdout"
        }
      ]
    },
    {
      "cell_type": "markdown",
      "metadata": {
        "id": "MRmCwODEW4q4"
      },
      "source": [
        "I recommend making a new folder on your Drive _first_ and moving your model into that folder so you know where it is. As is it is, the cell below will just copy your trained generator to the root directory of your Google Drive."
      ]
    },
    {
      "cell_type": "code",
      "metadata": {
        "id": "j9tFTa7OH8oj"
      },
      "source": [
        "# Copy the 'model' folder to your drive\n",
        "# -r means 'copy recursively' so it copies all the files and folders\n",
        "# inside the 'model' directory.\n",
        "!cp -r /content/model/ /content/drive/MyDrive/"
      ],
      "execution_count": null,
      "outputs": []
    },
    {
      "cell_type": "markdown",
      "metadata": {
        "id": "OlmCqCj5Xe3x"
      },
      "source": [
        "# Loading the Model\n",
        "\n",
        "To load the model we just use `saved_model.load()` and put the name of the directory inside the brackets. This will load the generator we saved into a variable which we can use exactly like any other model."
      ]
    },
    {
      "cell_type": "code",
      "metadata": {
        "id": "Yz9opQq8XhpP"
      },
      "source": [
        "loaded_g = tf.saved_model.load(MODEL_DIR_NAME)"
      ],
      "execution_count": 22,
      "outputs": []
    },
    {
      "cell_type": "markdown",
      "metadata": {
        "id": "UqUnpzGaaqrC"
      },
      "source": [
        "May as well make a new directory to put the images into to keep things neat."
      ]
    },
    {
      "cell_type": "code",
      "metadata": {
        "id": "6DleXAF0Ze6u"
      },
      "source": [
        "LOADED_OUTPUT = 'loaded_model_output'\n",
        "\n",
        "try:\n",
        "  os.mkdir(LOADED_OUTPUT)\n",
        "except:\n",
        "  pass"
      ],
      "execution_count": 23,
      "outputs": []
    },
    {
      "cell_type": "code",
      "metadata": {
        "id": "jcM0QKc8Z_FK"
      },
      "source": [
        "# This is so each saved image gets a unique number.\n",
        "# Run this cell only once!\n",
        "saved_images_counter = 0"
      ],
      "execution_count": 24,
      "outputs": []
    },
    {
      "cell_type": "markdown",
      "metadata": {
        "id": "5nnnb8nqY4Fm"
      },
      "source": [
        "To run the model we need to generate a latent vector Z of length and rescale the numbers a bit in order to display it."
      ]
    },
    {
      "cell_type": "code",
      "metadata": {
        "id": "qZ4Qd84iYg3H"
      },
      "source": [
        "batch_size = 1\n",
        "latent_dim = 128\n",
        "latent_z = tf.random.normal(shape=(batch_size, latent_dim))\n",
        "generated_images = loaded_g(latent_z)\n",
        "generated_images *= 255\n",
        "generated_images.numpy()\n",
        "\n",
        "# Here we save the image\n",
        "for i in range(batch_size):\n",
        "  img = keras.preprocessing.image.array_to_img(generated_images[i])\n",
        "  img.save(os.path.join(LOADED_OUTPUT, \"%03d_%d.png\" % (saved_images_counter, i)))\n",
        "  saved_images_counter += 1"
      ],
      "execution_count": 25,
      "outputs": []
    },
    {
      "cell_type": "markdown",
      "metadata": {
        "id": "wlJmNSBaaym7"
      },
      "source": [
        "Images are now saved into '/loaded_model_output'."
      ]
    },
    {
      "cell_type": "markdown",
      "metadata": {
        "id": "hpgBlP2XfGRB"
      },
      "source": [
        "To display the image using Matplot lib, we need to manipulate the data a bit more by turning the tensor into a Numpy array (`.numpy()`) and then converting the data type to `uint8`... There are many ways of doing this and this is just one."
      ]
    },
    {
      "cell_type": "code",
      "metadata": {
        "id": "AaPTJ72xc5XB",
        "colab": {
          "base_uri": "https://localhost:8080/",
          "height": 285
        },
        "outputId": "80005ef3-b5ed-47f7-9478-137246018f90"
      },
      "source": [
        "plt.imshow(generated_images[0].numpy().astype(np.uint8))"
      ],
      "execution_count": null,
      "outputs": [
        {
          "output_type": "execute_result",
          "data": {
            "text/plain": [
              "<matplotlib.image.AxesImage at 0x7f352cecdd50>"
            ]
          },
          "metadata": {
            "tags": []
          },
          "execution_count": 42
        },
        {
          "output_type": "display_data",
          "data": {
            "image/png": "[encoded data removed]",
            "text/plain": [
              "<Figure size 432x288 with 1 Axes>"
            ]
          },
          "metadata": {
            "tags": [],
            "needs_background": "light"
          }
        }
      ]
    }
  ]
}