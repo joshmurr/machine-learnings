{
  "nbformat": 4,
  "nbformat_minor": 0,
  "metadata": {
    "colab": {
      "name": "DCGAN-Keras-Cutsom-Dataset.ipynb",
      "provenance": [],
      "authorship_tag": "ABX9TyM3OiuWUeJYEfGU1MY769dF",
      "include_colab_link": true
    },
    "kernelspec": {
      "name": "python3",
      "display_name": "Python 3"
    },
    "accelerator": "GPU"
  },
  "cells": [
    {
      "cell_type": "markdown",
      "metadata": {
        "id": "view-in-github",
        "colab_type": "text"
      },
      "source": [
        "<a href=\"https://colab.research.google.com/github/joshmurr/machine-learnings/blob/master/cci-dsai/DCGAN_Keras_Cutsom_Dataset.ipynb\" target=\"_parent\"><img src=\"https://colab.research.google.com/assets/colab-badge.svg\" alt=\"Open In Colab\"/></a>"
      ]
    },
    {
      "cell_type": "markdown",
      "metadata": {
        "id": "G1CXqrESDzz5"
      },
      "source": [
        "# DCGAN - Custom Dataset\n",
        "## Deep Convolutional GAN\n",
        "\n",
        "This is much the same as the previous notebook we looked at (still using the [official Keras DCGAN implementation](https://keras.io/examples/generative/dcgan_overriding_train_step/)) but I have some extra code at the start to allow you to make your own dataset from a YouTube video!"
      ]
    },
    {
      "cell_type": "code",
      "metadata": {
        "id": "WcXXG7NMcHAl"
      },
      "source": [
        "import tensorflow as tf\n",
        "from tensorflow import keras\n",
        "from tensorflow.keras import layers\n",
        "import numpy as np\n",
        "import matplotlib.pyplot as plt\n",
        "import os\n",
        "import gdown\n",
        "from zipfile import ZipFile\n",
        "import cv2\n",
        "import math\n",
        "import random"
      ],
      "execution_count": 1,
      "outputs": []
    },
    {
      "cell_type": "code",
      "metadata": {
        "colab": {
          "base_uri": "https://localhost:8080/"
        },
        "id": "CotjyJ1-ewMz",
        "outputId": "bd07b271-58a5-4097-b2bf-8d037408224d"
      },
      "source": [
        "print(\"Num GPUs Available: \", len(tf.config.list_physical_devices('GPU')))"
      ],
      "execution_count": 2,
      "outputs": [
        {
          "output_type": "stream",
          "text": [
            "Num GPUs Available:  1\n"
          ],
          "name": "stdout"
        }
      ]
    },
    {
      "cell_type": "markdown",
      "metadata": {
        "id": "hFQoTc66Mi4f"
      },
      "source": [
        "We have to install [YouTube-DL](https://youtube-dl.org/) via pip in the cell below."
      ]
    },
    {
      "cell_type": "code",
      "metadata": {
        "colab": {
          "base_uri": "https://localhost:8080/"
        },
        "id": "eMkxqCTQif06",
        "outputId": "2e1f13af-ea95-4ea6-b552-ce35c5f36884"
      },
      "source": [
        "!pip install --upgrade --quiet youtube_dl"
      ],
      "execution_count": 3,
      "outputs": [
        {
          "output_type": "stream",
          "text": [
            "\u001b[K     |████████████████████████████████| 1.9MB 8.4MB/s \n",
            "\u001b[?25h"
          ],
          "name": "stdout"
        }
      ]
    },
    {
      "cell_type": "markdown",
      "metadata": {
        "id": "RSx3LqLKMveN"
      },
      "source": [
        "All you need to do is to run the cell below. It just contains helper functions to download a YouTube video and to extract frames from the video to make the dataset. Feel free to poke around if you're interested."
      ]
    },
    {
      "cell_type": "code",
      "metadata": {
        "id": "KCo8qlByilMl"
      },
      "source": [
        "# Some helper functions we will use to make the dataset\n",
        "\n",
        "from __future__ import unicode_literals\n",
        "import youtube_dl\n",
        "\n",
        "\n",
        "class MyLogger(object):\n",
        "    def debug(self, msg):\n",
        "        pass\n",
        "\n",
        "    def warning(self, msg):\n",
        "        pass\n",
        "\n",
        "    def error(self, msg):\n",
        "        print(msg)\n",
        "\n",
        "\n",
        "def my_hook(d):\n",
        "    if d['status'] == 'finished':\n",
        "        print('Done downloading.')\n",
        "\n",
        "def download_youtube_video(_url):\n",
        "  ydl_opts = {\n",
        "      'format': '(mp4)[height>=256][height<=400]',\n",
        "      'outtmpl': '%(id)s.%(ext)s',\n",
        "      'logger': MyLogger(),\n",
        "      'progress_hooks': [my_hook],\n",
        "  }\n",
        "  with youtube_dl.YoutubeDL(ydl_opts) as ydl:\n",
        "      result = ydl.extract_info(_url, download=True)\n",
        "\n",
        "  if 'entries' in result:\n",
        "    video = result['entries'][0]\n",
        "  else:\n",
        "    video = result\n",
        "\n",
        "  return video\n",
        "\n",
        "def analyse_video(_videoPath):\n",
        "  vidcap = cv2.VideoCapture(_videoPath)\n",
        "  success, frame = vidcap.read()\n",
        "\n",
        "  frameCount = 0\n",
        "  darkFrames = []\n",
        "  validFrames = []\n",
        "\n",
        "  while success:\n",
        "    grey = cv2.cvtColor(frame, cv2.COLOR_BGR2GRAY)\n",
        "    average = grey.mean(axis=0).mean(axis=0)\n",
        "\n",
        "    if average < 2:\n",
        "      darkFrames.append(frameCount)\n",
        "    else:\n",
        "      validFrames.append(frameCount)\n",
        "    \n",
        "    success, frame = vidcap.read()\n",
        "    frameCount += 1\n",
        "  \n",
        "  print(f'Found {len(darkFrames)} dark frames.')\n",
        "  return validFrames, darkFrames\n",
        "\n",
        "def extract_frames(_videoPath, _outputPath, _num, _size):\n",
        "  SIZE = _size[0]\n",
        "  MAX = _num\n",
        "  count = 0\n",
        "  id = 0\n",
        "  validFrames, darkFrames = analyse_video(_videoPath)\n",
        "  doubles = []\n",
        "  frames = []\n",
        "\n",
        "  if MAX > len(validFrames):\n",
        "    numDoubles = MAX - len(validFrames)\n",
        "    doubles = np.random.choice(validFrames, size=numDoubles, replace=False)\n",
        "    frames = validFrames\n",
        "  else:\n",
        "    frames = np.random.choice(validFrames, size=MAX, replace=False)\n",
        "\n",
        "  vidcap = cv2.VideoCapture(_videoPath)\n",
        "  success, frame = vidcap.read()\n",
        "\n",
        "  frameHeight = frame.shape[0]\n",
        "  frameWidth = frame.shape[1]\n",
        "\n",
        "  scaleFactor = SIZE / frameHeight\n",
        "  newWidth = int(frameWidth * scaleFactor)\n",
        "  padding = int((newWidth - SIZE) / 2)\n",
        "\n",
        "  while success:\n",
        "    if count in frames:\n",
        "      frame = cv2.resize(frame, (newWidth, SIZE), interpolation=cv2.INTER_AREA)\n",
        "      crops = []\n",
        "\n",
        "      if count in doubles:\n",
        "        crops = [frame[0:SIZE, 0:SIZE],\n",
        "                frame[0:SIZE, padding*2:SIZE+padding*2]]\n",
        "      else:\n",
        "        crops = [frame[0:SIZE, padding:SIZE+padding]]\n",
        "\n",
        "      for crop in crops:\n",
        "        try:\n",
        "          cv2.imwrite(os.path.join(_outputPath, f'{id:04}.jpg'), crop)\n",
        "          id += 1\n",
        "        except:\n",
        "          print(\"Error saving frame.\")\n",
        "          pass\n",
        "    \n",
        "    count += 1\n",
        "    success, frame = vidcap.read()\n",
        "\n",
        "  print(f\"Saved {id} images from video '{videoInfo['title']}'\")\n",
        "\n",
        "  return id"
      ],
      "execution_count": 4,
      "outputs": []
    },
    {
      "cell_type": "markdown",
      "metadata": {
        "id": "IbvkuYrrKMZ8"
      },
      "source": [
        "# Choose a YouTube Video\n",
        "\n",
        "Find a video on YouTube which is about 4-10 minutes long. The video can be anything but ideally it will be generally consistent throughout. So timelapse video are perfect, [like this video of clouds forming](https://www.youtube.com/watch?v=NJfI_GaEyJw), or [this video of life underwater](https://www.youtube.com/watch?v=J2BKd5e15Jc) has nice consistent colours and forms. However it is entirely up to you, maybe it would be interesting to get a random video of Lady Gaga dresses.. who knows!\n",
        "\n",
        "Paste the YouTube video URL in the cell below, __replacing the url that is between the single quotes__.\n",
        "\n",
        "If the URL is long like this:\n",
        "\n",
        "```\n",
        "https://www.youtube.com/watch?v=NJfI_GaEyJw&ab_channel=wizard327\n",
        "                                           ^\n",
        "                       We don't need the stuff after this & symbol.\n",
        "```\n",
        "\n",
        "just trim the end off after (and including) the '__&__' symbol."
      ]
    },
    {
      "cell_type": "code",
      "metadata": {
        "colab": {
          "base_uri": "https://localhost:8080/"
        },
        "id": "RoIgi2xYisel",
        "outputId": "9fc5af7c-212e-44a0-b3f2-6bb6344fe5ac"
      },
      "source": [
        "url = 'https://www.youtube.com/watch?v=J2BKd5e15Jc' # Coral Reef\n",
        "videoInfo = download_youtube_video(url)\n",
        "videoFile = \"{0}.{1}\".format(videoInfo['webpage_url'].split('=')[-1], videoInfo['ext'])"
      ],
      "execution_count": 5,
      "outputs": [
        {
          "output_type": "stream",
          "text": [
            "Done downloading.\n"
          ],
          "name": "stdout"
        }
      ]
    },
    {
      "cell_type": "markdown",
      "metadata": {
        "id": "N_-OFQLWL-U8"
      },
      "source": [
        "If your video has an intro and an outro we can trim that off! Change the `startTime` and `endTime` values below. The values need to be in seconds, so if the good bit of the video start at 38 seconds then enter `38` for `startTime`. If the end credits start at 9:14, then an easy way to find the seconds is `(9*60)+14`.\n",
        "\n",
        "__If you don't need to trim the video down then just don't run the cell below.__"
      ]
    },
    {
      "cell_type": "code",
      "metadata": {
        "colab": {
          "base_uri": "https://localhost:8080/"
        },
        "id": "m61KiSm-iugQ",
        "outputId": "66aa725a-bb23-4344-b659-0e57c0b01f22"
      },
      "source": [
        "# Optional trimming of the video to remove intro / end credits.\n",
        "# Skip this if your video does not need trimming.\n",
        "\n",
        "from moviepy.video.io.ffmpeg_tools import ffmpeg_extract_subclip\n",
        "\n",
        "def trim_video(_video, _start, _end):\n",
        "  trimmedVideo = f\"trimmed.{videoInfo['ext']}\"\n",
        "  ffmpeg_extract_subclip(videoFile, _start, _end, targetname=trimmedVideo)\n",
        "  return trimmedVideo\n",
        "\n",
        "\n",
        "startTime = 38\n",
        "endTime = (9*60)+14\n",
        "videoFile = trim_video(videoFile, startTime, endTime)"
      ],
      "execution_count": 6,
      "outputs": [
        {
          "output_type": "stream",
          "text": [
            "\n",
            "[MoviePy] Running:\n",
            ">>> /usr/bin/ffmpeg -y -i J2BKd5e15Jc.mp4 -ss 38.00 -t 516.00 -vcodec copy -acodec copy trimmed.mp4\n",
            "... command successful.\n"
          ],
          "name": "stdout"
        }
      ]
    },
    {
      "cell_type": "markdown",
      "metadata": {
        "id": "kWdv0dpWN7Gh"
      },
      "source": [
        "Next we make some directories and extract 3000 images from the the video."
      ]
    },
    {
      "cell_type": "code",
      "metadata": {
        "id": "tRHTno-9cMG4",
        "outputId": "968dd77a-e0ca-458c-a7ca-17e3fd9e16cd",
        "colab": {
          "base_uri": "https://localhost:8080/"
        }
      },
      "source": [
        "DATASET_DIR = 'dataset'\n",
        "IMAGES_DIR = f\"{DATASET_DIR}/images\"\n",
        "OUTPUT_DIR = 'output'\n",
        "IMAGE_SIZE =(64, 64)\n",
        "try:\n",
        "  os.makedirs(DATASET_DIR)\n",
        "  os.makedirs(IMAGES_DIR)\n",
        "  os.makedirs(OUTPUT_DIR)\n",
        "except:\n",
        "  pass\n",
        "NUM_IMAGES = extract_frames(f\"/content/{videoFile}\", IMAGES_DIR, 3000, IMAGE_SIZE)"
      ],
      "execution_count": 7,
      "outputs": [
        {
          "output_type": "stream",
          "text": [
            "Found 31 dark frames.\n",
            "Saved 3000 images from video 'Exploring the Coral Reef: Learn about Oceans for Kids - FreeSchool'\n"
          ],
          "name": "stdout"
        }
      ]
    },
    {
      "cell_type": "markdown",
      "metadata": {
        "id": "mcVHKvapOCSa"
      },
      "source": [
        "As with before we then turn it into a _Tensorflow dataset_."
      ]
    },
    {
      "cell_type": "code",
      "metadata": {
        "colab": {
          "base_uri": "https://localhost:8080/"
        },
        "id": "VEpCzNfCc0_7",
        "outputId": "66b4d2e5-341f-4275-f907-78bc965f866d"
      },
      "source": [
        "dataset = keras.preprocessing.image_dataset_from_directory(\n",
        "    DATASET_DIR, label_mode=None, image_size=IMAGE_SIZE, batch_size=32\n",
        ")\n",
        "dataset = dataset.map(lambda x: x / 255.0)"
      ],
      "execution_count": 8,
      "outputs": [
        {
          "output_type": "stream",
          "text": [
            "Found 3000 files belonging to 1 classes.\n"
          ],
          "name": "stdout"
        }
      ]
    },
    {
      "cell_type": "markdown",
      "metadata": {
        "id": "28RcFXw8OGsY"
      },
      "source": [
        "All things going well, if you run the cell below you should see frames from the video you chose being taken from the dataset we created."
      ]
    },
    {
      "cell_type": "code",
      "metadata": {
        "colab": {
          "base_uri": "https://localhost:8080/",
          "height": 248
        },
        "id": "DNOYzTQac1od",
        "outputId": "7a3b3aa0-cbe3-4ad9-d71b-ccaf8b07efbd"
      },
      "source": [
        "for x in dataset:\n",
        "    plt.axis(\"off\")\n",
        "    plt.imshow((x.numpy() * 255).astype(\"int32\")[0])\n",
        "    break"
      ],
      "execution_count": 17,
      "outputs": [
        {
          "output_type": "display_data",
          "data": {
            "image/png": "[encoded data removed]",
            "text/plain": [
              "<Figure size 432x288 with 1 Axes>"
            ]
          },
          "metadata": {
            "tags": [],
            "needs_background": "light"
          }
        }
      ]
    },
    {
      "cell_type": "markdown",
      "metadata": {
        "id": "Ahot01TYOOKW"
      },
      "source": [
        "# Defining the Model\n",
        "\n",
        "This is the same as the previous example."
      ]
    },
    {
      "cell_type": "code",
      "metadata": {
        "colab": {
          "base_uri": "https://localhost:8080/"
        },
        "id": "SPjWwh8CdeK8",
        "outputId": "e2945b29-1792-4736-e2d4-bd470414cb2b"
      },
      "source": [
        "discriminator = keras.Sequential(\n",
        "    [\n",
        "        keras.Input(shape=(64, 64, 3)),\n",
        "        layers.Conv2D(64, kernel_size=4, strides=2, padding=\"same\"),\n",
        "        layers.LeakyReLU(alpha=0.2),\n",
        "        layers.Conv2D(128, kernel_size=4, strides=2, padding=\"same\"),\n",
        "        layers.LeakyReLU(alpha=0.2),\n",
        "        layers.Conv2D(128, kernel_size=4, strides=2, padding=\"same\"),\n",
        "        layers.LeakyReLU(alpha=0.2),\n",
        "        layers.Flatten(),\n",
        "        layers.Dropout(0.2),\n",
        "        layers.Dense(1, activation=\"sigmoid\"),\n",
        "    ],\n",
        "    name=\"discriminator\",\n",
        ")\n",
        "discriminator.summary()\n"
      ],
      "execution_count": 18,
      "outputs": [
        {
          "output_type": "stream",
          "text": [
            "Model: \"discriminator\"\n",
            "_________________________________________________________________\n",
            "Layer (type)                 Output Shape              Param #   \n",
            "=================================================================\n",
            "conv2d (Conv2D)              (None, 32, 32, 64)        3136      \n",
            "_________________________________________________________________\n",
            "leaky_re_lu (LeakyReLU)      (None, 32, 32, 64)        0         \n",
            "_________________________________________________________________\n",
            "conv2d_1 (Conv2D)            (None, 16, 16, 128)       131200    \n",
            "_________________________________________________________________\n",
            "leaky_re_lu_1 (LeakyReLU)    (None, 16, 16, 128)       0         \n",
            "_________________________________________________________________\n",
            "conv2d_2 (Conv2D)            (None, 8, 8, 128)         262272    \n",
            "_________________________________________________________________\n",
            "leaky_re_lu_2 (LeakyReLU)    (None, 8, 8, 128)         0         \n",
            "_________________________________________________________________\n",
            "flatten (Flatten)            (None, 8192)              0         \n",
            "_________________________________________________________________\n",
            "dropout (Dropout)            (None, 8192)              0         \n",
            "_________________________________________________________________\n",
            "dense (Dense)                (None, 1)                 8193      \n",
            "=================================================================\n",
            "Total params: 404,801\n",
            "Trainable params: 404,801\n",
            "Non-trainable params: 0\n",
            "_________________________________________________________________\n"
          ],
          "name": "stdout"
        }
      ]
    },
    {
      "cell_type": "code",
      "metadata": {
        "colab": {
          "base_uri": "https://localhost:8080/"
        },
        "id": "Ve5WyO5vdhg7",
        "outputId": "50b2c151-9fa4-4667-c048-0242f1eaa00a"
      },
      "source": [
        "latent_dim = 128\n",
        "\n",
        "generator = keras.Sequential(\n",
        "    [\n",
        "        keras.Input(shape=(latent_dim,)),\n",
        "        layers.Dense(8 * 8 * 128),\n",
        "        layers.Reshape((8, 8, 128)),\n",
        "        layers.Conv2DTranspose(128, kernel_size=4, strides=2, padding=\"same\"),\n",
        "        layers.LeakyReLU(alpha=0.2),\n",
        "        layers.Conv2DTranspose(256, kernel_size=4, strides=2, padding=\"same\"),\n",
        "        layers.LeakyReLU(alpha=0.2),\n",
        "        layers.Conv2DTranspose(512, kernel_size=4, strides=2, padding=\"same\"),\n",
        "        layers.LeakyReLU(alpha=0.2),\n",
        "        layers.Conv2D(3, kernel_size=5, padding=\"same\", activation=\"sigmoid\"),\n",
        "    ],\n",
        "    name=\"generator\",\n",
        ")\n",
        "generator.summary()"
      ],
      "execution_count": 20,
      "outputs": [
        {
          "output_type": "stream",
          "text": [
            "Model: \"generator\"\n",
            "_________________________________________________________________\n",
            "Layer (type)                 Output Shape              Param #   \n",
            "=================================================================\n",
            "dense_2 (Dense)              (None, 8192)              1056768   \n",
            "_________________________________________________________________\n",
            "reshape_1 (Reshape)          (None, 8, 8, 128)         0         \n",
            "_________________________________________________________________\n",
            "conv2d_transpose_3 (Conv2DTr (None, 16, 16, 128)       262272    \n",
            "_________________________________________________________________\n",
            "leaky_re_lu_6 (LeakyReLU)    (None, 16, 16, 128)       0         \n",
            "_________________________________________________________________\n",
            "conv2d_transpose_4 (Conv2DTr (None, 32, 32, 256)       524544    \n",
            "_________________________________________________________________\n",
            "leaky_re_lu_7 (LeakyReLU)    (None, 32, 32, 256)       0         \n",
            "_________________________________________________________________\n",
            "conv2d_transpose_5 (Conv2DTr (None, 64, 64, 512)       2097664   \n",
            "_________________________________________________________________\n",
            "leaky_re_lu_8 (LeakyReLU)    (None, 64, 64, 512)       0         \n",
            "_________________________________________________________________\n",
            "conv2d_4 (Conv2D)            (None, 64, 64, 3)         38403     \n",
            "=================================================================\n",
            "Total params: 3,979,651\n",
            "Trainable params: 3,979,651\n",
            "Non-trainable params: 0\n",
            "_________________________________________________________________\n"
          ],
          "name": "stdout"
        }
      ]
    },
    {
      "cell_type": "code",
      "metadata": {
        "id": "28BVDjCNdnT4"
      },
      "source": [
        "class GAN(keras.Model):\n",
        "    def __init__(self, discriminator, generator, latent_dim):\n",
        "        super(GAN, self).__init__()\n",
        "        self.discriminator = discriminator\n",
        "        self.generator = generator\n",
        "        self.latent_dim = latent_dim\n",
        "\n",
        "    def compile(self, d_optimizer, g_optimizer, loss_fn):\n",
        "        super(GAN, self).compile()\n",
        "        self.d_optimizer = d_optimizer\n",
        "        self.g_optimizer = g_optimizer\n",
        "        self.loss_fn = loss_fn\n",
        "        self.d_loss_metric = keras.metrics.Mean(name=\"d_loss\")\n",
        "        self.g_loss_metric = keras.metrics.Mean(name=\"g_loss\")\n",
        "\n",
        "    @property\n",
        "    def metrics(self):\n",
        "        return [self.d_loss_metric, self.g_loss_metric]\n",
        "\n",
        "    def train_step(self, real_images):\n",
        "        # Sample random points in the latent space\n",
        "        batch_size = tf.shape(real_images)[0]\n",
        "        random_latent_vectors = tf.random.normal(shape=(batch_size, self.latent_dim))\n",
        "\n",
        "        # Decode them to fake images\n",
        "        generated_images = self.generator(random_latent_vectors)\n",
        "\n",
        "        # Combine them with real images\n",
        "        combined_images = tf.concat([generated_images, real_images], axis=0)\n",
        "\n",
        "        # Assemble labels discriminating real from fake images\n",
        "        labels = tf.concat(\n",
        "            [tf.ones((batch_size, 1)), tf.zeros((batch_size, 1))], axis=0\n",
        "        )\n",
        "        # Add random noise to the labels - important trick!\n",
        "        labels += 0.05 * tf.random.uniform(tf.shape(labels))\n",
        "\n",
        "        # Train the discriminator\n",
        "        with tf.GradientTape() as tape:\n",
        "            predictions = self.discriminator(combined_images)\n",
        "            d_loss = self.loss_fn(labels, predictions)\n",
        "        grads = tape.gradient(d_loss, self.discriminator.trainable_weights)\n",
        "        self.d_optimizer.apply_gradients(\n",
        "            zip(grads, self.discriminator.trainable_weights)\n",
        "        )\n",
        "\n",
        "        # Sample random points in the latent space\n",
        "        random_latent_vectors = tf.random.normal(shape=(batch_size, self.latent_dim))\n",
        "\n",
        "        # Assemble labels that say \"all real images\"\n",
        "        misleading_labels = tf.zeros((batch_size, 1))\n",
        "\n",
        "        # Train the generator (note that we should *not* update the weights\n",
        "        # of the discriminator)!\n",
        "        with tf.GradientTape() as tape:\n",
        "            predictions = self.discriminator(self.generator(random_latent_vectors))\n",
        "            g_loss = self.loss_fn(misleading_labels, predictions)\n",
        "        grads = tape.gradient(g_loss, self.generator.trainable_weights)\n",
        "        self.g_optimizer.apply_gradients(zip(grads, self.generator.trainable_weights))\n",
        "\n",
        "        # Update metrics\n",
        "        self.d_loss_metric.update_state(d_loss)\n",
        "        self.g_loss_metric.update_state(g_loss)\n",
        "        return {\n",
        "            \"d_loss\": self.d_loss_metric.result(),\n",
        "            \"g_loss\": self.g_loss_metric.result(),\n",
        "        }"
      ],
      "execution_count": 23,
      "outputs": []
    },
    {
      "cell_type": "code",
      "metadata": {
        "id": "BlygRVfXdrCK"
      },
      "source": [
        "class GANMonitor(keras.callbacks.Callback):\n",
        "    def __init__(self, num_img=1, latent_dim=128):\n",
        "        self.num_img = num_img\n",
        "        self.latent_dim = latent_dim\n",
        "\n",
        "    def on_epoch_end(self, epoch, logs=None):\n",
        "        random_latent_vectors = tf.random.normal(shape=(self.num_img, self.latent_dim))\n",
        "        generated_images = self.model.generator(random_latent_vectors)\n",
        "        generated_images *= 255\n",
        "        generated_images.numpy()\n",
        "        for i in range(self.num_img):\n",
        "            img = keras.preprocessing.image.array_to_img(generated_images[i])\n",
        "            img.save(os.path.join(OUTPUT_DIR, \"generated_img_%03d_%d.png\" % (epoch, i)))\n"
      ],
      "execution_count": 24,
      "outputs": []
    },
    {
      "cell_type": "markdown",
      "metadata": {
        "id": "ilBtgRC2OS6E"
      },
      "source": [
        "# Train the GAN\n",
        "\n",
        "Now our dataset is much much smaller than [CelebA](http://mmlab.ie.cuhk.edu.hk/projects/CelebA.html) and so this will train a lot quicker.\n",
        "\n",
        "Unfortunately Keras likes to output a lot of it's own information during training which makes it difficult to display images using `imshow` or something similar. But as with before images from the generator are saved to a directory called `output` which you can find in the file explorer on the left."
      ]
    },
    {
      "cell_type": "code",
      "metadata": {
        "colab": {
          "base_uri": "https://localhost:8080/"
        },
        "id": "KjCwDPALdtgA",
        "outputId": "8fcf594e-5ed4-46c9-a4f6-e06b0649157a"
      },
      "source": [
        "epochs = 60\n",
        "\n",
        "gan = GAN(discriminator=discriminator, generator=generator, latent_dim=latent_dim)\n",
        "gan.compile(\n",
        "    d_optimizer=keras.optimizers.Adam(learning_rate=0.0001),\n",
        "    g_optimizer=keras.optimizers.Adam(learning_rate=0.0001),\n",
        "    loss_fn=keras.losses.BinaryCrossentropy(),\n",
        ")\n",
        "\n",
        "gan.fit(\n",
        "    dataset, epochs=epochs, callbacks=[GANMonitor(num_img=1, latent_dim=latent_dim)]\n",
        ")"
      ],
      "execution_count": 25,
      "outputs": [
        {
          "output_type": "stream",
          "text": [
            "Epoch 1/60\n",
            "94/94 [==============================] - 22s 151ms/step - d_loss: 0.5275 - g_loss: 0.9996\n",
            "Epoch 2/60\n",
            "94/94 [==============================] - 14s 146ms/step - d_loss: 0.5887 - g_loss: 1.7964\n",
            "Epoch 3/60\n",
            "94/94 [==============================] - 14s 146ms/step - d_loss: 0.5530 - g_loss: 1.4173\n",
            "Epoch 4/60\n",
            "94/94 [==============================] - 14s 147ms/step - d_loss: 0.5841 - g_loss: 1.5787\n",
            "Epoch 5/60\n",
            "94/94 [==============================] - 14s 147ms/step - d_loss: 0.4916 - g_loss: 1.2724\n",
            "Epoch 6/60\n",
            "94/94 [==============================] - 14s 147ms/step - d_loss: 0.4265 - g_loss: 1.6158\n",
            "Epoch 7/60\n",
            "94/94 [==============================] - 14s 147ms/step - d_loss: 0.4993 - g_loss: 1.3737\n",
            "Epoch 8/60\n",
            "94/94 [==============================] - 14s 147ms/step - d_loss: 0.6907 - g_loss: 1.1980\n",
            "Epoch 9/60\n",
            "94/94 [==============================] - 14s 146ms/step - d_loss: 0.5081 - g_loss: 1.5337\n",
            "Epoch 10/60\n",
            "94/94 [==============================] - 14s 147ms/step - d_loss: 0.5974 - g_loss: 1.5541\n",
            "Epoch 11/60\n",
            "94/94 [==============================] - 14s 147ms/step - d_loss: 0.5772 - g_loss: 1.2183\n",
            "Epoch 12/60\n",
            "94/94 [==============================] - 14s 148ms/step - d_loss: 0.6124 - g_loss: 1.0926\n",
            "Epoch 13/60\n",
            "94/94 [==============================] - 14s 147ms/step - d_loss: 0.6370 - g_loss: 1.2903\n",
            "Epoch 14/60\n",
            "94/94 [==============================] - 14s 147ms/step - d_loss: 0.5708 - g_loss: 1.1313\n",
            "Epoch 15/60\n",
            "94/94 [==============================] - 14s 147ms/step - d_loss: 0.6055 - g_loss: 1.8010\n",
            "Epoch 16/60\n",
            "94/94 [==============================] - 14s 147ms/step - d_loss: 0.6301 - g_loss: 1.2536\n",
            "Epoch 17/60\n",
            "94/94 [==============================] - 14s 147ms/step - d_loss: 0.6271 - g_loss: 1.0749\n",
            "Epoch 18/60\n",
            "94/94 [==============================] - 14s 147ms/step - d_loss: 0.4901 - g_loss: 1.4472\n",
            "Epoch 19/60\n",
            "94/94 [==============================] - 14s 147ms/step - d_loss: 0.6697 - g_loss: 1.1394\n",
            "Epoch 20/60\n",
            "94/94 [==============================] - 14s 147ms/step - d_loss: 0.5836 - g_loss: 1.3269\n",
            "Epoch 21/60\n",
            "94/94 [==============================] - 14s 147ms/step - d_loss: 0.5603 - g_loss: 1.1876\n",
            "Epoch 22/60\n",
            "94/94 [==============================] - 14s 147ms/step - d_loss: 0.6735 - g_loss: 0.8300\n",
            "Epoch 23/60\n",
            "94/94 [==============================] - 14s 148ms/step - d_loss: 0.5949 - g_loss: 0.9437\n",
            "Epoch 24/60\n",
            "94/94 [==============================] - 14s 147ms/step - d_loss: 0.6718 - g_loss: 0.9716\n",
            "Epoch 25/60\n",
            "94/94 [==============================] - 14s 147ms/step - d_loss: 0.6293 - g_loss: 1.0172\n",
            "Epoch 26/60\n",
            "94/94 [==============================] - 14s 148ms/step - d_loss: 0.6071 - g_loss: 1.2407\n",
            "Epoch 27/60\n",
            "94/94 [==============================] - 14s 147ms/step - d_loss: 0.6070 - g_loss: 1.5164\n",
            "Epoch 28/60\n",
            "94/94 [==============================] - 14s 147ms/step - d_loss: 0.7105 - g_loss: 1.1202\n",
            "Epoch 29/60\n",
            "94/94 [==============================] - 14s 147ms/step - d_loss: 0.6199 - g_loss: 1.0459\n",
            "Epoch 30/60\n",
            "94/94 [==============================] - 14s 148ms/step - d_loss: 0.6290 - g_loss: 0.9600\n",
            "Epoch 31/60\n",
            "94/94 [==============================] - 14s 148ms/step - d_loss: 0.6089 - g_loss: 1.0733\n",
            "Epoch 32/60\n",
            "94/94 [==============================] - 14s 147ms/step - d_loss: 0.6497 - g_loss: 0.9275\n",
            "Epoch 33/60\n",
            "94/94 [==============================] - 14s 147ms/step - d_loss: 0.6722 - g_loss: 0.9549\n",
            "Epoch 34/60\n",
            "94/94 [==============================] - 14s 149ms/step - d_loss: 0.5913 - g_loss: 1.0827\n",
            "Epoch 35/60\n",
            "94/94 [==============================] - 14s 147ms/step - d_loss: 0.6026 - g_loss: 1.2522\n",
            "Epoch 36/60\n",
            "94/94 [==============================] - 14s 147ms/step - d_loss: 0.6472 - g_loss: 1.0060\n",
            "Epoch 37/60\n",
            "94/94 [==============================] - 14s 147ms/step - d_loss: 0.6311 - g_loss: 0.9663\n",
            "Epoch 38/60\n",
            "94/94 [==============================] - 14s 148ms/step - d_loss: 0.6501 - g_loss: 1.0237\n",
            "Epoch 39/60\n",
            "94/94 [==============================] - 14s 147ms/step - d_loss: 0.6537 - g_loss: 0.9115\n",
            "Epoch 40/60\n",
            "94/94 [==============================] - 14s 148ms/step - d_loss: 0.6569 - g_loss: 0.9443\n",
            "Epoch 41/60\n",
            "94/94 [==============================] - 14s 147ms/step - d_loss: 0.6239 - g_loss: 1.0425\n",
            "Epoch 42/60\n",
            "94/94 [==============================] - 14s 147ms/step - d_loss: 0.6538 - g_loss: 0.9330\n",
            "Epoch 43/60\n",
            "94/94 [==============================] - 14s 147ms/step - d_loss: 0.6647 - g_loss: 1.1493\n",
            "Epoch 44/60\n",
            "94/94 [==============================] - 14s 147ms/step - d_loss: 0.6558 - g_loss: 1.2626\n",
            "Epoch 45/60\n",
            "94/94 [==============================] - 14s 147ms/step - d_loss: 0.5930 - g_loss: 1.6771\n",
            "Epoch 46/60\n",
            "94/94 [==============================] - 14s 147ms/step - d_loss: 0.6259 - g_loss: 0.9905\n",
            "Epoch 47/60\n",
            "94/94 [==============================] - 14s 147ms/step - d_loss: 0.6497 - g_loss: 0.9062\n",
            "Epoch 48/60\n",
            "94/94 [==============================] - 14s 148ms/step - d_loss: 0.6854 - g_loss: 0.9346\n",
            "Epoch 49/60\n",
            "94/94 [==============================] - 14s 148ms/step - d_loss: 0.6287 - g_loss: 0.9586\n",
            "Epoch 50/60\n",
            "94/94 [==============================] - 14s 147ms/step - d_loss: 0.6512 - g_loss: 0.9798\n",
            "Epoch 51/60\n",
            "94/94 [==============================] - 14s 148ms/step - d_loss: 0.6431 - g_loss: 0.9683\n",
            "Epoch 52/60\n",
            "94/94 [==============================] - 14s 148ms/step - d_loss: 0.6675 - g_loss: 0.8618\n",
            "Epoch 53/60\n",
            "94/94 [==============================] - 14s 148ms/step - d_loss: 0.6706 - g_loss: 0.9857\n",
            "Epoch 54/60\n",
            "94/94 [==============================] - 14s 148ms/step - d_loss: 0.6635 - g_loss: 1.1198\n",
            "Epoch 55/60\n",
            "94/94 [==============================] - 14s 147ms/step - d_loss: 0.7113 - g_loss: 1.2452\n",
            "Epoch 56/60\n",
            "94/94 [==============================] - 14s 149ms/step - d_loss: 0.6489 - g_loss: 1.2294\n",
            "Epoch 57/60\n",
            "94/94 [==============================] - 14s 147ms/step - d_loss: 0.5941 - g_loss: 1.0952\n",
            "Epoch 58/60\n",
            "94/94 [==============================] - 14s 148ms/step - d_loss: 0.7320 - g_loss: 1.0535\n",
            "Epoch 59/60\n",
            "94/94 [==============================] - 14s 148ms/step - d_loss: 0.6077 - g_loss: 1.2434\n",
            "Epoch 60/60\n",
            "94/94 [==============================] - 14s 148ms/step - d_loss: 0.6734 - g_loss: 0.8577\n"
          ],
          "name": "stdout"
        },
        {
          "output_type": "execute_result",
          "data": {
            "text/plain": [
              "<tensorflow.python.keras.callbacks.History at 0x7f4f17a9f310>"
            ]
          },
          "metadata": {
            "tags": []
          },
          "execution_count": 25
        }
      ]
    },
    {
      "cell_type": "markdown",
      "metadata": {
        "id": "O0tPBlhsI5vm"
      },
      "source": [
        "# Extra: Saving a Model"
      ]
    },
    {
      "cell_type": "code",
      "metadata": {
        "id": "_RFwq3AyHiAW",
        "outputId": "15dc259e-6866-4f07-d4b3-285d900b6172",
        "colab": {
          "base_uri": "https://localhost:8080/"
        }
      },
      "source": [
        "# Make a new directory to save the model into\n",
        "os.mkdir('model')\n",
        "gan.generator.save('model') # We're just saving the generator here as that's the interesting bit!"
      ],
      "execution_count": 26,
      "outputs": [
        {
          "output_type": "stream",
          "text": [
            "INFO:tensorflow:Assets written to: model/assets\n"
          ],
          "name": "stdout"
        }
      ]
    },
    {
      "cell_type": "code",
      "metadata": {
        "id": "GTQ8KHFIHzG5",
        "outputId": "97ae7706-e74d-4cd5-fba9-146c8eadd3c4",
        "colab": {
          "base_uri": "https://localhost:8080/"
        }
      },
      "source": [
        "# Give Colab access to your Google Drive\n",
        "from google.colab import drive\n",
        "drive.mount('/content/drive')"
      ],
      "execution_count": 27,
      "outputs": [
        {
          "output_type": "stream",
          "text": [
            "Mounted at /content/drive\n"
          ],
          "name": "stdout"
        }
      ]
    },
    {
      "cell_type": "code",
      "metadata": {
        "id": "j9tFTa7OH8oj"
      },
      "source": [
        "# Copy the 'model' folder to your drive\n",
        "# -r means 'copy recursively' so it copies all the files and folders\n",
        "# inside the 'model' directory.\n",
        "!cp -r /content/model/ /content/drive/MyDrive/"
      ],
      "execution_count": null,
      "outputs": []
    }
  ]
}